{
  "cells": [
    {
      "cell_type": "code",
      "execution_count": null,
      "metadata": {
        "collapsed": true,
        "pycharm": {}
      },
      "outputs": [],
      "source": "reverse_word_map \u003d dict(map(reversed, tokenizer.word_index.items()))\n\n# Function takes a tokenized sentence and returns the words\ndef sequence_to_text(list_of_indices):\n    # Looking up words in dictionary\n    words \u003d [reverse_word_map.get(letter) for letter in list_of_indices]\n    return(words)\n\n# Creating texts \nmy_texts \u003d list(map(sequence_to_text, [X_val[preds.argmax()]]))\n"
    }
  ],
  "metadata": {
    "language_info": {
      "codemirror_mode": {
        "name": "ipython",
        "version": 2
      },
      "file_extension": ".py",
      "mimetype": "text/x-python",
      "name": "python",
      "nbconvert_exporter": "python",
      "pygments_lexer": "ipython2",
      "version": "2.7.6"
    },
    "kernelspec": {
      "name": "pycharm-11c4cb55",
      "language": "python",
      "display_name": "PyCharm (beta-Carotene)"
    }
  },
  "nbformat": 4,
  "nbformat_minor": 0
}