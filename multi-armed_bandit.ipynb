{
 "cells": [
  {
   "cell_type": "code",
   "execution_count": 15,
   "metadata": {},
   "outputs": [
    {
     "data": {
      "image/png": "[encoded data removed]",
      "text/plain": [
       "<matplotlib.figure.Figure at 0x7f114841f1d0>"
      ]
     },
     "metadata": {},
     "output_type": "display_data"
    }
   ],
   "source": [
    "import random\n",
    "from random import gauss\n",
    "from statistics import mean \n",
    "import matplotlib\n",
    "import matplotlib.pyplot as plt\n",
    "\n",
    "def run(epsilon, machines, nb_machines):\n",
    "    gains = []\n",
    "    avg_gains = []\n",
    "    gain = 0\n",
    "    machine_gains = [[] for i in range(nb_machines)] \n",
    "    avg_machine_gain = [0] * nb_machines\n",
    "    pick = 0\n",
    "    best_machine = random.randint(0, nb_machines)\n",
    "    \n",
    "    for i in range(nb_machines):\n",
    "        rd = random.random()\n",
    "        if rd < epsilon:\n",
    "            # Explore\n",
    "            pick = random.randint(0, nb_machines)\n",
    "        else:\n",
    "            pick = best_machine\n",
    "        gain = gauss(machines[pick], 1)\n",
    "        gains.append(gain)\n",
    "        machine_gains[pick].append(gain)\n",
    "        avg_machine_gain[pick] = mean(machine_gains[pick])\n",
    "        best_machine = avg_machine_gain.index(max(avg_machine_gain))\n",
    "        avg_gains.append(mean(gains))\n",
    "        \n",
    "    return gains, avg_gains\n",
    "\n",
    "\n",
    "if __name__ == '__main__':\n",
    "    nb_machines = 2000\n",
    "    machines = [gauss(1, 1) for i in range(nb_machines)]\n",
    "    gains, avg = run(0, machines, nb_machines)\n",
    "    gains_2, avg_2 = run(0.01, machines, nb_machines)\n",
    "    gains_3, avg_3 = run(0.1, machines, nb_machines)\n",
    "\n",
    "\n",
    "    plt.plot(range(nb_machines), avg)\n",
    "    plt.plot(range(nb_machines), avg_2)\n",
    "    plt.plot(range(nb_machines), avg_3)\n",
    "    plt.show()\n"
   ]
  },
  {
   "cell_type": "code",
   "execution_count": null,
   "metadata": {},
   "outputs": [],
   "source": []
  },
  {
   "cell_type": "code",
   "execution_count": null,
   "metadata": {},
   "outputs": [],
   "source": []
  }
 ],
 "metadata": {
  "kernelspec": {
   "display_name": "Python 3",
   "language": "python",
   "name": "python3"
  },
  "language_info": {
   "codemirror_mode": {
    "name": "ipython",
    "version": 3
   },
   "file_extension": ".py",
   "mimetype": "text/x-python",
   "name": "python",
   "nbconvert_exporter": "python",
   "pygments_lexer": "ipython3",
   "version": "3.6.5"
  }
 },
 "nbformat": 4,
 "nbformat_minor": 1
}
