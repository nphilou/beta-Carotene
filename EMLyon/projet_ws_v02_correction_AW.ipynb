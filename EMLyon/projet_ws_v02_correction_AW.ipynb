{
 "cells": [
  {
   "cell_type": "markdown",
   "metadata": {},
   "source": [
    "# Web Scraping"
   ]
  },
  {
   "cell_type": "markdown",
   "metadata": {},
   "source": [
    "## Importation des librairies"
   ]
  },
  {
   "cell_type": "code",
   "execution_count": 20,
   "metadata": {
    "ExecuteTime": {
     "end_time": "2019-05-11T22:14:30.534415Z",
     "start_time": "2019-05-11T22:14:30.530409Z"
    }
   },
   "outputs": [],
   "source": [
    "# a mettre au propre une fois le projet fini, pour l'instant vide\n",
    "# vcar selon le besoin au moment venue:\n",
    "# voir si natif d'Anaconda sinon l'importer par la cmd"
   ]
  },
  {
   "cell_type": "markdown",
   "metadata": {},
   "source": [
    "## Creation d'une methode generale"
   ]
  },
  {
   "cell_type": "markdown",
   "metadata": {},
   "source": [
    "<div style=\"background-color: #dff0d8;border: 1px solid transparent;border-color: #d6e9c6;border-radius: 10px;color: #3c763d;font-size: 14px;line-height: 20px;margin: 7px 3px;padding: 15px;\">\n",
    "    \n",
    "Evitez d'utiliser l'import de tous les éléments d'un module (\\*)\n",
    "    \n",
    "Préférez le fait de donner un alias court à votre module de manière à bien voir dans le code quel élément vient d'où :\n",
    "    \n",
    "```python\n",
    "import peewee as pw\n",
    "\n",
    "class Annonce(pw.Model):\n",
    "    id = pw.CharField(unique=True, primary_key=True)\n",
    "...\n",
    "```\n",
    "</div>"
   ]
  },
  {
   "cell_type": "code",
   "execution_count": 1,
   "metadata": {
    "ExecuteTime": {
     "end_time": "2019-05-16T09:32:29.782518Z",
     "start_time": "2019-05-16T09:32:29.365334Z"
    }
   },
   "outputs": [],
   "source": [
    "from playhouse.sqlite_ext import SqliteExtDatabase\n",
    "\n",
    "# à importer par la cmd\n",
    "from peewee import *"
   ]
  },
  {
   "cell_type": "code",
   "execution_count": 2,
   "metadata": {
    "ExecuteTime": {
     "end_time": "2019-05-16T09:44:24.391621Z",
     "start_time": "2019-05-16T09:44:24.381616Z"
    }
   },
   "outputs": [],
   "source": [
    "# creation de la base sql\n",
    "db = SqliteExtDatabase('database.sqlite')"
   ]
  },
  {
   "cell_type": "code",
   "execution_count": 3,
   "metadata": {
    "ExecuteTime": {
     "end_time": "2019-05-16T09:44:27.918847Z",
     "start_time": "2019-05-16T09:44:27.910734Z"
    }
   },
   "outputs": [],
   "source": [
    "# creation de classe: nouveau type d'objet\n",
    "class Annonce(Model):\n",
    "    # id = \"pap-123456789\"\n",
    "    id = CharField(unique=True, primary_key=True)\n",
    "    # site = [pap, lbc, logic-immo, seloger]\n",
    "    site = CharField()\n",
    "    created = DateTimeField()\n",
    "    title = CharField()\n",
    "    description = TextField(null=True)\n",
    "    telephone = TextField(null=True)\n",
    "    price = FloatField()\n",
    "    charges = FloatField(null=True)\n",
    "    surface = FloatField()\n",
    "    rooms = IntegerField()\n",
    "    bedrooms = IntegerField(null=True)\n",
    "    city = CharField()\n",
    "    link = CharField()\n",
    "    picture = CharField(null=True)\n",
    "    posted2trello = BooleanField(default=False)\n",
    "\n",
    "    class Meta:\n",
    "        database = db\n",
    "        order_by = ('-created',)\n",
    "\n",
    "\n",
    "def create_tables():\n",
    "    with db:\n",
    "        db.create_tables([Annonce])"
   ]
  },
  {
   "cell_type": "markdown",
   "metadata": {
    "ExecuteTime": {
     "end_time": "2019-05-11T22:15:32.035979Z",
     "start_time": "2019-05-11T22:15:32.031986Z"
    }
   },
   "source": [
    "## Scrapping des différents sites: Seloger.com, LeBonCoin.fr, Biend'Ici"
   ]
  },
  {
   "cell_type": "markdown",
   "metadata": {},
   "source": [
    "### Scraping SeLoger.com"
   ]
  },
  {
   "cell_type": "markdown",
   "metadata": {},
   "source": [
    "<div style=\"background-color: #dff0d8;border: 1px solid transparent;border-color: #d6e9c6;border-radius: 10px;color: #3c763d;font-size: 14px;line-height: 20px;margin: 7px 3px;padding: 15px;\">       \n",
    "Je vous recommande vraiment d'utiliser BeautifulSoup (bs4) qui est plus simple à utiliser que xml.etree.ElementTree et ne bug pas au moindre défaut de code HTML...\n",
    "    \n",
    "https://www.crummy.com/software/BeautifulSoup/bs4/doc\n",
    "</div>"
   ]
  },
  {
   "cell_type": "code",
   "execution_count": 4,
   "metadata": {
    "ExecuteTime": {
     "end_time": "2019-05-16T10:09:00.378007Z",
     "start_time": "2019-05-16T10:08:59.984332Z"
    }
   },
   "outputs": [],
   "source": [
    "import requests\n",
    "\n",
    "import xml.etree.ElementTree as ET\n",
    "\n",
    "from datetime import datetime"
   ]
  },
  {
   "cell_type": "code",
   "execution_count": 5,
   "metadata": {
    "ExecuteTime": {
     "end_time": "2019-05-17T13:31:05.704218Z",
     "start_time": "2019-05-17T13:31:05.689246Z"
    }
   },
   "outputs": [],
   "source": [
    "#module qui récupère les annonces de SeLoger.com\n",
    "\n",
    "def search(parameters):\n",
    "    # Préparation des paramètres de la requête\n",
    "    payload = {\n",
    "        'px_loyermin': parameters['price'][0],\n",
    "        'px_loyermax': parameters['price'][1],\n",
    "        'surfacemin': parameters['surface'][0],\n",
    "        'surfacemax': parameters['surface'][1],\n",
    "        # Si parameters['rooms'] = (2, 4) => \"2,3,4\"\n",
    "        'nbpieces': list(range(parameters['rooms'][0], parameters['rooms'][1] + 1)),\n",
    "        # Si parameters['bedrooms'] = (2, 4) => \"2,3,4\"\n",
    "        'nb_chambres': list(range(parameters['bedrooms'][0], parameters['bedrooms'][1] + 1)),\n",
    "        'ci': [int(cp[2]) for cp in parameters['cities']]\n",
    "    }\n",
    "    \n",
    "     # Insertion des paramètres propres à LeBonCoin\n",
    "    payload.update(parameters['seloger'])\n",
    "\n",
    "    headers = {'user-agent': 'Mozilla/5.0 (Windows NT 10.0; Win64; x64) AppleWebKit/537.36 (KHTML, like Gecko) Chrome/64.0.3282.167 Safari/537.36'}\n",
    "\n",
    "    request = requests.get(\"https://www.seloger.com/list.htm?types=1&projects=2,5&enterprise=0&natures=1,2,4&places=[{ci:750056}]&qsVersion=1.0\", params=payload, headers=headers)\n",
    "    \n",
    "    xml_root = ET.fromstring(request.text)\n",
    "    \n",
    "    for annonceNode in xml_root.findall('annonces/annonce'):\n",
    "        # Seconde requête pour obtenir la description de l'annonce\n",
    "        _payload = {'noAudiotel': 1, 'idAnnonce': annonceNode.findtext('idAnnonce')}\n",
    "        _request = requests.get(\"http://ws.seloger.com/annonceDetail_4.0.xml\", params=_payload, headers=headers)\n",
    "        \n",
    "        photos = list()\n",
    "        for photo in annonceNode.find(\"photos\"):\n",
    "            photos.append(photo.findtext(\"stdUrl\"))\n",
    "\n",
    "        annonce, created = Annonce.create_or_get(\n",
    "            id='seloger-' + annonceNode.find('idAnnonce').text,\n",
    "            site='SeLoger',\n",
    "            # SeLoger peut ne pas fournir de titre pour une annonce T_T\n",
    "            title=\"Appartement \" + annonceNode.findtext('nbPiece') + \" pièces\" if annonceNode.findtext('titre') is None else annonceNode.findtext('titre'),\n",
    "            description=ET.fromstring(_request.text).findtext(\"descriptif\"),\n",
    "            telephone=ET.fromstring(_request.text).findtext(\"contact/telephone\"),\n",
    "            created=datetime.strptime(annonceNode.findtext('dtCreation'), '%Y-%m-%dT%H:%M:%S'),\n",
    "            price=annonceNode.find('prix').text,\n",
    "            charges=annonceNode.find('charges').text,\n",
    "            surface=annonceNode.find('surface').text,\n",
    "            rooms=annonceNode.find('nbPiece').text,\n",
    "            bedrooms=annonceNode.find('nbChambre').text,\n",
    "            city=annonceNode.findtext('ville'),\n",
    "            link=annonceNode.findtext('permaLien'),\n",
    "            picture=photos\n",
    "        )\n",
    "\n",
    "        if created:\n",
    "            annonce.save() "
   ]
  },
  {
   "cell_type": "markdown",
   "metadata": {},
   "source": [
    "### Scraping LeBonCoin.fr"
   ]
  },
  {
   "cell_type": "code",
   "execution_count": 6,
   "metadata": {
    "ExecuteTime": {
     "end_time": "2019-05-16T10:19:39.926243Z",
     "start_time": "2019-05-16T10:19:39.920913Z"
    }
   },
   "outputs": [],
   "source": [
    "# Virginie"
   ]
  },
  {
   "cell_type": "markdown",
   "metadata": {},
   "source": [
    "### Scraping BienDici.com"
   ]
  },
  {
   "cell_type": "code",
   "execution_count": 7,
   "metadata": {
    "ExecuteTime": {
     "end_time": "2019-05-16T10:20:51.587596Z",
     "start_time": "2019-05-16T10:20:51.583557Z"
    }
   },
   "outputs": [],
   "source": [
    "# Virginie et moi à faire"
   ]
  },
  {
   "cell_type": "markdown",
   "metadata": {},
   "source": [
    "## Programme principal: pour l'instant fait que sur seloger"
   ]
  },
  {
   "cell_type": "code",
   "execution_count": 8,
   "metadata": {
    "ExecuteTime": {
     "end_time": "2019-05-16T10:26:26.247101Z",
     "start_time": "2019-05-16T10:26:26.242183Z"
    }
   },
   "outputs": [],
   "source": [
    "import os\n",
    "import sys\n",
    "import json"
   ]
  },
  {
   "cell_type": "code",
   "execution_count": 9,
   "metadata": {
    "ExecuteTime": {
     "end_time": "2019-05-17T13:31:25.637188Z",
     "start_time": "2019-05-17T13:31:25.633187Z"
    }
   },
   "outputs": [],
   "source": [
    "import logging"
   ]
  },
  {
   "cell_type": "code",
   "execution_count": 10,
   "metadata": {
    "ExecuteTime": {
     "end_time": "2019-05-16T11:09:36.848489Z",
     "start_time": "2019-05-16T11:09:36.840623Z"
    }
   },
   "outputs": [],
   "source": [
    "logging.basicConfig(level=logging.INFO)"
   ]
  },
  {
   "cell_type": "markdown",
   "metadata": {},
   "source": [
    "<div style=\"background-color: #dff0d8;border: 1px solid transparent;border-color: #d6e9c6;border-radius: 10px;color: #3c763d;font-size: 14px;line-height: 20px;margin: 7px 3px;padding: 15px;\">\n",
    "A priori, la case ci-dessous n'a pas lieu d'être...</div>"
   ]
  },
  {
   "cell_type": "code",
   "execution_count": 13,
   "metadata": {
    "ExecuteTime": {
     "end_time": "2019-05-16T11:33:31.218216Z",
     "start_time": "2019-05-16T11:33:31.207011Z"
    }
   },
   "outputs": [],
   "source": [
    "# os.chdir(os.path.dirname(sys.argv[0]))"
   ]
  },
  {
   "cell_type": "code",
   "execution_count": 14,
   "metadata": {
    "ExecuteTime": {
     "end_time": "2019-05-16T15:54:53.001109Z",
     "start_time": "2019-05-16T15:54:52.830920Z"
    }
   },
   "outputs": [],
   "source": [
    "create_tables()"
   ]
  },
  {
   "cell_type": "code",
   "execution_count": 15,
   "metadata": {
    "ExecuteTime": {
     "end_time": "2019-05-16T15:59:13.931822Z",
     "start_time": "2019-05-16T15:59:13.926835Z"
    }
   },
   "outputs": [
    {
     "name": "stdout",
     "output_type": "stream",
     "text": [
      "<playhouse.sqlite_ext.SqliteExtDatabase object at 0x000000000E78C780>\n"
     ]
    }
   ],
   "source": [
    "print(db)"
   ]
  },
  {
   "cell_type": "markdown",
   "metadata": {},
   "source": [
    "<div style=\"background-color: #dff0d8;border: 1px solid transparent;border-color: #d6e9c6;border-radius: 10px;color: #3c763d;font-size: 14px;line-height: 20px;margin: 7px 3px;padding: 15px;\">\n",
    "Evitez d'utiliser des chemins d'accès absolus qui bien sûr ne marcheront que si vous êtes sur votre machine... \n",
    "Et stockez vos fichiers et résultats dans le même dossier, ou encore mieux, dans un sous-dossier du dossier contenant votre Notebook</div>"
   ]
  },
  {
   "cell_type": "code",
   "execution_count": 16,
   "metadata": {
    "ExecuteTime": {
     "end_time": "2019-05-17T13:26:14.961461Z",
     "start_time": "2019-05-17T13:26:14.944507Z"
    }
   },
   "outputs": [],
   "source": [
    "# Chargement des paramètres de recherche depuis le fichier JSON\n",
    "# with open(\"C:/Users/asial/projet_ws/parameters.json\", encoding='utf-8') as parameters_data:\n",
    "with open(\"parameters.json\", encoding='utf-8') as parameters_data:\n",
    "    parameters = json.load(parameters_data)"
   ]
  },
  {
   "cell_type": "code",
   "execution_count": 17,
   "metadata": {
    "ExecuteTime": {
     "end_time": "2019-05-17T13:31:29.812703Z",
     "start_time": "2019-05-17T13:31:29.796746Z"
    }
   },
   "outputs": [
    {
     "name": "stderr",
     "output_type": "stream",
     "text": [
      "INFO:root:Retrieving from seloger\n"
     ]
    },
    {
     "ename": "ParseError",
     "evalue": "not well-formed (invalid token): line 605, column 62 (<string>)",
     "output_type": "error",
     "traceback": [
      "Traceback \u001b[1;36m(most recent call last)\u001b[0m:\n",
      "  File \u001b[0;32m\"C:\\Users\\Icar\\Anaconda3\\lib\\site-packages\\IPython\\core\\interactiveshell.py\"\u001b[0m, line \u001b[0;32m3267\u001b[0m, in \u001b[0;35mrun_code\u001b[0m\n    exec(code_obj, self.user_global_ns, self.user_ns)\n",
      "  File \u001b[0;32m\"<ipython-input-17-5db14daf9bea>\"\u001b[0m, line \u001b[0;32m4\u001b[0m, in \u001b[0;35m<module>\u001b[0m\n    search(parameters)\n",
      "  File \u001b[0;32m\"<ipython-input-5-aa45e19d76dc>\"\u001b[0m, line \u001b[0;32m24\u001b[0m, in \u001b[0;35msearch\u001b[0m\n    xml_root = ET.fromstring(request.text)\n",
      "\u001b[1;36m  File \u001b[1;32m\"C:\\Users\\Icar\\Anaconda3\\lib\\xml\\etree\\ElementTree.py\"\u001b[1;36m, line \u001b[1;32m1315\u001b[1;36m, in \u001b[1;35mXML\u001b[1;36m\u001b[0m\n\u001b[1;33m    parser.feed(text)\u001b[0m\n",
      "\u001b[1;36m  File \u001b[1;32m\"<string>\"\u001b[1;36m, line \u001b[1;32munknown\u001b[0m\n\u001b[1;31mParseError\u001b[0m\u001b[1;31m:\u001b[0m not well-formed (invalid token): line 605, column 62\n"
     ]
    }
   ],
   "source": [
    "# Recherche et insertion en base\n",
    "if \"seloger\" in parameters['ad-providers']:\n",
    "    logging.info(\"Retrieving from seloger\")\n",
    "    search(parameters)"
   ]
  },
  {
   "cell_type": "markdown",
   "metadata": {},
   "source": [
    "<div style=\"background-color: #dff0d8;border: 1px solid transparent;border-color: #d6e9c6;border-radius: 10px;color: #3c763d;font-size: 14px;line-height: 20px;margin: 7px 3px;padding: 15px;\">\n",
    "On va analyser ce qui se passe en détail\n",
    "Créons une \"zone de travaux\" dans notre code, bien délimitée pour bien mettre en avant que le code ci-dessous est temporaire</div>"
   ]
  },
  {
   "cell_type": "markdown",
   "metadata": {},
   "source": [
    "# Work in Progress"
   ]
  },
  {
   "cell_type": "code",
   "execution_count": 51,
   "metadata": {
    "ExecuteTime": {
     "end_time": "2019-05-17T13:31:05.704218Z",
     "start_time": "2019-05-17T13:31:05.689246Z"
    }
   },
   "outputs": [],
   "source": [
    "#module qui récupère les annonces de SeLoger.com\n",
    "\n",
    "# def search(parameters):\n",
    "# Préparation des paramètres de la requête\n",
    "payload = {\n",
    "    'px_loyermin': parameters['price'][0],\n",
    "    'px_loyermax': parameters['price'][1],\n",
    "    'surfacemin': parameters['surface'][0],\n",
    "    'surfacemax': parameters['surface'][1],\n",
    "    # Si parameters['rooms'] = (2, 4) => \"2,3,4\"\n",
    "    'nbpieces': list(range(parameters['rooms'][0], parameters['rooms'][1] + 1)),\n",
    "    # Si parameters['bedrooms'] = (2, 4) => \"2,3,4\"\n",
    "    'nb_chambres': list(range(parameters['bedrooms'][0], parameters['bedrooms'][1] + 1)),\n",
    "    'ci': [int(cp[2]) for cp in parameters['cities']]\n",
    "}\n",
    "\n",
    " # Insertion des paramètres propres à LeBonCoin\n",
    "payload.update(parameters['seloger'])\n",
    "\n",
    "headers = {'user-agent': 'Mozilla/5.0 (Windows NT 10.0; Win64; x64) AppleWebKit/537.36 (KHTML, like Gecko) Chrome/64.0.3282.167 Safari/537.36'}\n",
    "\n",
    "request = requests.get(\"https://www.seloger.com/list.htm?types=1&projects=2,5&enterprise=0&natures=1,2,4&places=[{ci:750056}]&qsVersion=1.0\", params=payload, headers=headers)"
   ]
  },
  {
   "cell_type": "code",
   "execution_count": 53,
   "metadata": {},
   "outputs": [],
   "source": []
  },
  {
   "cell_type": "markdown",
   "metadata": {},
   "source": [
    "<div style=\"background-color: #dff0d8;border: 1px solid transparent;border-color: #d6e9c6;border-radius: 10px;color: #3c763d;font-size: 14px;line-height: 20px;margin: 7px 3px;padding: 15px;\">\n",
    "Déjà, comme expliqué plus haut, utilisez BeautifulSoup!</div>"
   ]
  },
  {
   "cell_type": "code",
   "execution_count": 54,
   "metadata": {},
   "outputs": [],
   "source": [
    "from bs4 import BeautifulSoup\n",
    "# xml_root = ET.fromstring(request.text)\n",
    "xml_root = BeautifulSoup(request.text)"
   ]
  },
  {
   "cell_type": "markdown",
   "metadata": {},
   "source": [
    "<div style=\"background-color: #dff0d8;border: 1px solid transparent;border-color: #d6e9c6;border-radius: 10px;color: #3c763d;font-size: 14px;line-height: 20px;margin: 7px 3px;padding: 15px;\">\n",
    "On écrit le résultat pretty-fié dans un fichier pour le visualiser sous Notepad++ :</div>"
   ]
  },
  {
   "cell_type": "code",
   "execution_count": 61,
   "metadata": {},
   "outputs": [],
   "source": [
    "with open('temporary.html', 'w', encoding='utf-8') as dest:\n",
    "    dest.write(xml_root.prettify())"
   ]
  },
  {
   "cell_type": "markdown",
   "metadata": {},
   "source": [
    "<div style=\"background-color: #dff0d8;border: 1px solid transparent;border-color: #d6e9c6;border-radius: 10px;color: #3c763d;font-size: 14px;line-height: 20px;margin: 7px 3px;padding: 15px;\">\n",
    "    \n",
    "Et on observe sous Notepad++: \n",
    "- qu'il y a un json dans votre HTML qui contient plein de données (ligne 1063 - 3243) !\n",
    "- que ce json est enfermé dans du code javascript, et qu'il est précédé d'une chaine de caractère :\n",
    "\n",
    "```javascript\n",
    "var ava_data =```\n",
    "\n",
    "- et qu'il est suivi par la chaine de caractère :\n",
    "\n",
    "```javascript\n",
    "ava_data.logged =```\n",
    "\n",
    "</div>"
   ]
  },
  {
   "cell_type": "markdown",
   "metadata": {},
   "source": [
    "<div style=\"background-color: #dff0d8;border: 1px solid transparent;border-color: #d6e9c6;border-radius: 10px;color: #3c763d;font-size: 14px;line-height: 20px;margin: 7px 3px;padding: 15px;\">\n",
    "Essayons de ne garder que ce json : </div>"
   ]
  },
  {
   "cell_type": "code",
   "execution_count": 96,
   "metadata": {},
   "outputs": [],
   "source": [
    "clean_json = request.text.split(\"var ava_data = \")[1].split(\"ava_data.logged\")[0]"
   ]
  },
  {
   "cell_type": "markdown",
   "metadata": {},
   "source": [
    "<div style=\"background-color: #dff0d8;border: 1px solid transparent;border-color: #d6e9c6;border-radius: 10px;color: #3c763d;font-size: 14px;line-height: 20px;margin: 7px 3px;padding: 15px;\">\n",
    "Ecrivons le résultat dans un fichier pour visualiser le contenu sous Notepad++</div>"
   ]
  },
  {
   "cell_type": "code",
   "execution_count": 95,
   "metadata": {},
   "outputs": [],
   "source": [
    "with open('temporary.json', 'w', encoding='utf-8') as dest:\n",
    "    dest.write(clean_json)"
   ]
  },
  {
   "cell_type": "markdown",
   "metadata": {},
   "source": [
    "<div style=\"background-color: #dff0d8;border: 1px solid transparent;border-color: #d6e9c6;border-radius: 10px;color: #3c763d;font-size: 14px;line-height: 20px;margin: 7px 3px;padding: 15px;\">\n",
    "Trop de caractères de retour à la ligne qui polluent le contenu. \n",
    "    \n",
    "Améliorons notre extraction :</div>"
   ]
  },
  {
   "cell_type": "code",
   "execution_count": 103,
   "metadata": {},
   "outputs": [],
   "source": [
    "clean_json = request.text.split(\"var ava_data = \")[1].split(\"ava_data.logged\")[0].strip()"
   ]
  },
  {
   "cell_type": "code",
   "execution_count": 104,
   "metadata": {},
   "outputs": [],
   "source": [
    "with open('temporary.json', 'w', encoding='utf-8') as dest:\n",
    "    dest.write(clean_json)"
   ]
  },
  {
   "cell_type": "markdown",
   "metadata": {},
   "source": [
    "<div style=\"background-color: #dff0d8;border: 1px solid transparent;border-color: #d6e9c6;border-radius: 10px;color: #3c763d;font-size: 14px;line-height: 20px;margin: 7px 3px;padding: 15px;\">\n",
    "Essayons maintenant de charger cette chaine de caractères avec le module json :</div>"
   ]
  },
  {
   "cell_type": "code",
   "execution_count": 106,
   "metadata": {},
   "outputs": [
    {
     "ename": "JSONDecodeError",
     "evalue": "Extra data: line 1091 column 2 (char 38199)",
     "output_type": "error",
     "traceback": [
      "\u001b[1;31m---------------------------------------------------------------------------\u001b[0m",
      "\u001b[1;31mJSONDecodeError\u001b[0m                           Traceback (most recent call last)",
      "\u001b[1;32m<ipython-input-106-4f23781ef9f3>\u001b[0m in \u001b[0;36m<module>\u001b[1;34m\u001b[0m\n\u001b[1;32m----> 1\u001b[1;33m \u001b[0mjson_obj\u001b[0m \u001b[1;33m=\u001b[0m \u001b[0mjson\u001b[0m\u001b[1;33m.\u001b[0m\u001b[0mloads\u001b[0m\u001b[1;33m(\u001b[0m\u001b[0mclean_json\u001b[0m\u001b[1;33m)\u001b[0m\u001b[1;33m\u001b[0m\u001b[1;33m\u001b[0m\u001b[0m\n\u001b[0m",
      "\u001b[1;32m~\\Anaconda3\\lib\\json\\__init__.py\u001b[0m in \u001b[0;36mloads\u001b[1;34m(s, encoding, cls, object_hook, parse_float, parse_int, parse_constant, object_pairs_hook, **kw)\u001b[0m\n\u001b[0;32m    346\u001b[0m             \u001b[0mparse_int\u001b[0m \u001b[1;32mis\u001b[0m \u001b[1;32mNone\u001b[0m \u001b[1;32mand\u001b[0m \u001b[0mparse_float\u001b[0m \u001b[1;32mis\u001b[0m \u001b[1;32mNone\u001b[0m \u001b[1;32mand\u001b[0m\u001b[1;33m\u001b[0m\u001b[1;33m\u001b[0m\u001b[0m\n\u001b[0;32m    347\u001b[0m             parse_constant is None and object_pairs_hook is None and not kw):\n\u001b[1;32m--> 348\u001b[1;33m         \u001b[1;32mreturn\u001b[0m \u001b[0m_default_decoder\u001b[0m\u001b[1;33m.\u001b[0m\u001b[0mdecode\u001b[0m\u001b[1;33m(\u001b[0m\u001b[0ms\u001b[0m\u001b[1;33m)\u001b[0m\u001b[1;33m\u001b[0m\u001b[1;33m\u001b[0m\u001b[0m\n\u001b[0m\u001b[0;32m    349\u001b[0m     \u001b[1;32mif\u001b[0m \u001b[0mcls\u001b[0m \u001b[1;32mis\u001b[0m \u001b[1;32mNone\u001b[0m\u001b[1;33m:\u001b[0m\u001b[1;33m\u001b[0m\u001b[1;33m\u001b[0m\u001b[0m\n\u001b[0;32m    350\u001b[0m         \u001b[0mcls\u001b[0m \u001b[1;33m=\u001b[0m \u001b[0mJSONDecoder\u001b[0m\u001b[1;33m\u001b[0m\u001b[1;33m\u001b[0m\u001b[0m\n",
      "\u001b[1;32m~\\Anaconda3\\lib\\json\\decoder.py\u001b[0m in \u001b[0;36mdecode\u001b[1;34m(self, s, _w)\u001b[0m\n\u001b[0;32m    338\u001b[0m         \u001b[0mend\u001b[0m \u001b[1;33m=\u001b[0m \u001b[0m_w\u001b[0m\u001b[1;33m(\u001b[0m\u001b[0ms\u001b[0m\u001b[1;33m,\u001b[0m \u001b[0mend\u001b[0m\u001b[1;33m)\u001b[0m\u001b[1;33m.\u001b[0m\u001b[0mend\u001b[0m\u001b[1;33m(\u001b[0m\u001b[1;33m)\u001b[0m\u001b[1;33m\u001b[0m\u001b[1;33m\u001b[0m\u001b[0m\n\u001b[0;32m    339\u001b[0m         \u001b[1;32mif\u001b[0m \u001b[0mend\u001b[0m \u001b[1;33m!=\u001b[0m \u001b[0mlen\u001b[0m\u001b[1;33m(\u001b[0m\u001b[0ms\u001b[0m\u001b[1;33m)\u001b[0m\u001b[1;33m:\u001b[0m\u001b[1;33m\u001b[0m\u001b[1;33m\u001b[0m\u001b[0m\n\u001b[1;32m--> 340\u001b[1;33m             \u001b[1;32mraise\u001b[0m \u001b[0mJSONDecodeError\u001b[0m\u001b[1;33m(\u001b[0m\u001b[1;34m\"Extra data\"\u001b[0m\u001b[1;33m,\u001b[0m \u001b[0ms\u001b[0m\u001b[1;33m,\u001b[0m \u001b[0mend\u001b[0m\u001b[1;33m)\u001b[0m\u001b[1;33m\u001b[0m\u001b[1;33m\u001b[0m\u001b[0m\n\u001b[0m\u001b[0;32m    341\u001b[0m         \u001b[1;32mreturn\u001b[0m \u001b[0mobj\u001b[0m\u001b[1;33m\u001b[0m\u001b[1;33m\u001b[0m\u001b[0m\n\u001b[0;32m    342\u001b[0m \u001b[1;33m\u001b[0m\u001b[0m\n",
      "\u001b[1;31mJSONDecodeError\u001b[0m: Extra data: line 1091 column 2 (char 38199)"
     ]
    }
   ],
   "source": [
    "json_obj = json.loads(clean_json)"
   ]
  },
  {
   "cell_type": "markdown",
   "metadata": {},
   "source": [
    "<div style=\"background-color: #dff0d8;border: 1px solid transparent;border-color: #d6e9c6;border-radius: 10px;color: #3c763d;font-size: 14px;line-height: 20px;margin: 7px 3px;padding: 15px;\">\n",
    "Problème avec le caractère 38199. Bizarre...\n",
    "\n",
    "Il y a combien de caractère dans clean_json ?</div>"
   ]
  },
  {
   "cell_type": "code",
   "execution_count": 107,
   "metadata": {},
   "outputs": [
    {
     "data": {
      "text/plain": [
       "38200"
      ]
     },
     "execution_count": 107,
     "metadata": {},
     "output_type": "execute_result"
    }
   ],
   "source": [
    "len(clean_json)"
   ]
  },
  {
   "cell_type": "markdown",
   "metadata": {},
   "source": [
    "<div style=\"background-color: #dff0d8;border: 1px solid transparent;border-color: #d6e9c6;border-radius: 10px;color: #3c763d;font-size: 14px;line-height: 20px;margin: 7px 3px;padding: 15px;\">\n",
    "Donc c'est juste le dernier caractère qui pose problème! C'est quoi ce caractère? </div>"
   ]
  },
  {
   "cell_type": "code",
   "execution_count": 109,
   "metadata": {},
   "outputs": [
    {
     "data": {
      "text/plain": [
       "';'"
      ]
     },
     "execution_count": 109,
     "metadata": {},
     "output_type": "execute_result"
    }
   ],
   "source": [
    "clean_json[-1]"
   ]
  },
  {
   "cell_type": "markdown",
   "metadata": {},
   "source": [
    "<div style=\"background-color: #dff0d8;border: 1px solid transparent;border-color: #d6e9c6;border-radius: 10px;color: #3c763d;font-size: 14px;line-height: 20px;margin: 7px 3px;padding: 15px;\">\n",
    "En javascript, on met des points-virgule en fin de ligne... Il suffit de l'enlever</div>"
   ]
  },
  {
   "cell_type": "code",
   "execution_count": 110,
   "metadata": {},
   "outputs": [],
   "source": [
    "json_obj = json.loads(clean_json[:-1])"
   ]
  },
  {
   "cell_type": "markdown",
   "metadata": {},
   "source": [
    "<div style=\"background-color: #dff0d8;border: 1px solid transparent;border-color: #d6e9c6;border-radius: 10px;color: #3c763d;font-size: 14px;line-height: 20px;margin: 7px 3px;padding: 15px;\">\n",
    "Et là, magnifique, le rêve de tout scraper! Un json de données ultra-propres et extrêmement faciles à exploiter!</div>"
   ]
  },
  {
   "cell_type": "code",
   "execution_count": 111,
   "metadata": {},
   "outputs": [
    {
     "data": {
      "text/plain": [
       "{'search': {'levier': 'Recherche depuis la liste',\n",
       "  'nbresults': '11\\xa0442',\n",
       "  'nbpage': '1',\n",
       "  'typedetransaction': ['vente', 'viager'],\n",
       "  'nbpieces': [''],\n",
       "  'typedebien': ['Appartement'],\n",
       "  'pays': 'FR',\n",
       "  'nbchambres': [''],\n",
       "  'budget': {'min': '', 'max': ''},\n",
       "  'surface': {'min': '', 'max': ''},\n",
       "  'surface_terrain': {'min': '', 'max': ''},\n",
       "  'type': [{'name': 'Nouvelle recherche', 'value': True},\n",
       "   {'name': 'Dernière recherche', 'value': False},\n",
       "   {'name': 'Recherche enregistrée', 'value': False}],\n",
       "  'etage': {'min': '', 'max': ''},\n",
       "  'tri': {'criteria': 'Sélection', 'direction': ''},\n",
       "  'chauffage': [{'name': 'individuel', 'value': False},\n",
       "   {'name': 'central', 'value': False},\n",
       "   {'name': 'electrique', 'value': False},\n",
       "   {'name': 'gaz', 'value': False},\n",
       "   {'name': 'fuel', 'value': False},\n",
       "   {'name': 'sol', 'value': False},\n",
       "   {'name': 'radiateur', 'value': False}],\n",
       "  'cuisine': [{'name': 'cuisine separee', 'value': False},\n",
       "   {'name': 'cuisine americaine', 'value': False},\n",
       "   {'name': 'coin cuisine', 'value': False},\n",
       "   {'name': 'cuisine equipee', 'value': False}],\n",
       "  'naturebien': [{'name': 'ancien', 'value': True},\n",
       "   {'name': 'neuf', 'value': True},\n",
       "   {'name': 'luxe', 'value': False},\n",
       "   {'name': 'construire', 'value': True},\n",
       "   {'name': 'investissement', 'value': False},\n",
       "   {'name': 'viager', 'value': True},\n",
       "   {'name': 'courte duree', 'value': False},\n",
       "   {'name': 'meuble', 'value': False},\n",
       "   {'name': 'nonmeuble', 'value': False}],\n",
       "  'supplement': [{'name': 'avecPhoto', 'value': False},\n",
       "   {'name': 'visiteVirtuelle', 'value': False},\n",
       "   {'name': 'evolutionPrix', 'value': False},\n",
       "   {'name': 'exclusivites', 'value': False},\n",
       "   {'name': 'professionnels', 'value': False},\n",
       "   {'name': 'avecVideo', 'value': False}],\n",
       "  'amenagements': [{'name': 'salleAmanger', 'value': False},\n",
       "   {'name': 'sejour', 'value': False},\n",
       "   {'name': 'toiletteSeparee', 'value': False},\n",
       "   {'name': 'salleDeBain', 'value': False},\n",
       "   {'name': 'salleDEau', 'value': False},\n",
       "   {'name': 'entreeSeparee', 'value': False}],\n",
       "  'secteuractivite': [{'name': 'Tabac-Presse-Loto', 'value': False},\n",
       "   {'name': 'Agence', 'value': False},\n",
       "   {'name': 'Alimentation', 'value': False},\n",
       "   {'name': 'Artisanat', 'value': False},\n",
       "   {'name': 'Auto-Moto-Service', 'value': False},\n",
       "   {'name': 'Bien-etre-beaute', 'value': False},\n",
       "   {'name': 'Cafe-Hôtel-Restaurant', 'value': False},\n",
       "   {'name': 'Commerces specialises', 'value': False},\n",
       "   {'name': 'Divers', 'value': False},\n",
       "   {'name': 'equipement Maison', 'value': False},\n",
       "   {'name': 'Grande distribution', 'value': False},\n",
       "   {'name': 'Loisirs et culture', 'value': False},\n",
       "   {'name': 'Pret à porter - Textile', 'value': False},\n",
       "   {'name': 'Sante', 'value': False},\n",
       "   {'name': 'Service pour la personne', 'value': False},\n",
       "   {'name': 'Services aux entreprises', 'value': False}],\n",
       "  'commodites': [{'name': 'terrasse', 'value': False},\n",
       "   {'name': 'balcon', 'value': False},\n",
       "   {'name': 'cheminee', 'value': False},\n",
       "   {'name': 'parquet', 'value': False},\n",
       "   {'name': 'climatisation', 'value': False},\n",
       "   {'name': 'alarme', 'value': False},\n",
       "   {'name': 'placards', 'value': False},\n",
       "   {'name': 'dernier etage', 'value': False},\n",
       "   {'name': 'ascenseur', 'value': False},\n",
       "   {'name': 'parking ouvert', 'value': False},\n",
       "   {'name': 'box', 'value': False},\n",
       "   {'name': 'cave', 'value': False},\n",
       "   {'name': 'piscine', 'value': False},\n",
       "   {'name': 'interphone', 'value': False},\n",
       "   {'name': 'digicode', 'value': False},\n",
       "   {'name': 'gardien', 'value': False},\n",
       "   {'name': 'handicape', 'value': False}],\n",
       "  'situation': [{'name': 'sud', 'value': False},\n",
       "   {'name': 'belleVue', 'value': False},\n",
       "   {'name': 'sansVisAVis', 'value': False}],\n",
       "  'localites': [{'name': 'ville', 'value': ['750056']}]},\n",
       " 'products': [{'idannonce': '146595087',\n",
       "   'idagence': '139630',\n",
       "   'idtiers': '202137',\n",
       "   'typedebien': 'Appartement',\n",
       "   'typedetransaction': ['viager'],\n",
       "   'idtypepublicationsourcecouplage': 'SL',\n",
       "   'position': '0',\n",
       "   'codepostal': '75007',\n",
       "   'ville': 'Paris 7ème',\n",
       "   'departement': 'Paris',\n",
       "   'codeinsee': '750107',\n",
       "   'produitsvisibilite': 'AD:AC:BB:AW',\n",
       "   'affichagetype': [{'name': 'liste', 'value': True}],\n",
       "   'cp': '75007',\n",
       "   'etage': '0',\n",
       "   'idtypechauffage': '0',\n",
       "   'idtypecommerce': '0',\n",
       "   'idtypecuisine': 'séparée équipée',\n",
       "   'naturebien': '1',\n",
       "   'si_balcon': '1',\n",
       "   'nb_chambres': '1',\n",
       "   'nb_pieces': '2',\n",
       "   'si_sdbain': '0',\n",
       "   'si_sdEau': '0',\n",
       "   'nb_photos': '11',\n",
       "   'prix': '86030',\n",
       "   'surface': '54'},\n",
       "  {'idannonce': '146925859',\n",
       "   'idagence': '139630',\n",
       "   'idtiers': '202137',\n",
       "   'typedebien': 'Appartement',\n",
       "   'typedetransaction': ['viager'],\n",
       "   'idtypepublicationsourcecouplage': 'SL',\n",
       "   'position': '1',\n",
       "   'codepostal': '75017',\n",
       "   'ville': 'Paris 17ème',\n",
       "   'departement': 'Paris',\n",
       "   'codeinsee': '750117',\n",
       "   'produitsvisibilite': 'AD:AC:BB:AW',\n",
       "   'affichagetype': [{'name': 'liste', 'value': True}],\n",
       "   'cp': '75017',\n",
       "   'etage': '0',\n",
       "   'idtypechauffage': '0',\n",
       "   'idtypecommerce': '0',\n",
       "   'idtypecuisine': 'séparée',\n",
       "   'naturebien': '1',\n",
       "   'si_balcon': '1',\n",
       "   'nb_chambres': '1',\n",
       "   'nb_pieces': '2',\n",
       "   'si_sdbain': '0',\n",
       "   'si_sdEau': '0',\n",
       "   'nb_photos': '12',\n",
       "   'prix': '122880',\n",
       "   'surface': '47'},\n",
       "  {'idannonce': '146737155',\n",
       "   'idagence': '139630',\n",
       "   'idtiers': '202137',\n",
       "   'typedebien': 'Appartement',\n",
       "   'typedetransaction': ['viager'],\n",
       "   'idtypepublicationsourcecouplage': 'SL',\n",
       "   'position': '2',\n",
       "   'codepostal': '75020',\n",
       "   'ville': 'Paris 20ème',\n",
       "   'departement': 'Paris',\n",
       "   'codeinsee': '750120',\n",
       "   'produitsvisibilite': 'AD:AC:BB:AW',\n",
       "   'affichagetype': [{'name': 'liste', 'value': True}],\n",
       "   'cp': '75020',\n",
       "   'etage': '0',\n",
       "   'idtypechauffage': '0',\n",
       "   'idtypecommerce': '0',\n",
       "   'idtypecuisine': 'séparée équipée',\n",
       "   'naturebien': '1',\n",
       "   'si_balcon': '1',\n",
       "   'nb_chambres': '1',\n",
       "   'nb_pieces': '2',\n",
       "   'si_sdbain': '0',\n",
       "   'si_sdEau': '0',\n",
       "   'nb_photos': '11',\n",
       "   'prix': '133750',\n",
       "   'surface': '50'},\n",
       "  {'idannonce': '145145047',\n",
       "   'idagence': '9014',\n",
       "   'idtiers': '923',\n",
       "   'typedebien': 'Appartement',\n",
       "   'typedetransaction': ['vente'],\n",
       "   'idtypepublicationsourcecouplage': 'SL',\n",
       "   'position': '3',\n",
       "   'codepostal': '75019',\n",
       "   'ville': 'Paris 19ème',\n",
       "   'departement': 'Paris',\n",
       "   'codeinsee': '750119',\n",
       "   'produitsvisibilite': 'AD:AC:BB:BX:AW',\n",
       "   'affichagetype': [{'name': 'liste', 'value': True}],\n",
       "   'cp': '75019',\n",
       "   'etage': '0',\n",
       "   'idtypechauffage': '0',\n",
       "   'idtypecommerce': '0',\n",
       "   'idtypecuisine': 'séparée',\n",
       "   'naturebien': '1',\n",
       "   'si_balcon': '1',\n",
       "   'nb_chambres': '00',\n",
       "   'nb_pieces': '1',\n",
       "   'si_sdbain': '0',\n",
       "   'si_sdEau': '0',\n",
       "   'nb_photos': '6',\n",
       "   'prix': '270000',\n",
       "   'surface': '28'},\n",
       "  {'idannonce': '147338391',\n",
       "   'idagence': '334288',\n",
       "   'idtiers': '397606',\n",
       "   'typedebien': 'Appartement',\n",
       "   'typedetransaction': ['vente'],\n",
       "   'idtypepublicationsourcecouplage': 'SL',\n",
       "   'position': '4',\n",
       "   'codepostal': '75015',\n",
       "   'ville': 'Paris 15ème',\n",
       "   'departement': 'Paris',\n",
       "   'codeinsee': '750115',\n",
       "   'produitsvisibilite': 'AD:AC:BB:AW',\n",
       "   'affichagetype': [{'name': 'liste', 'value': True}],\n",
       "   'cp': '75015',\n",
       "   'etage': '0',\n",
       "   'idtypechauffage': '0',\n",
       "   'idtypecommerce': '0',\n",
       "   'idtypecuisine': 'séparée',\n",
       "   'naturebien': '1',\n",
       "   'si_balcon': '0',\n",
       "   'nb_chambres': '00',\n",
       "   'nb_pieces': '1',\n",
       "   'si_sdbain': '0',\n",
       "   'si_sdEau': '0',\n",
       "   'nb_photos': '7',\n",
       "   'prix': '300000',\n",
       "   'surface': '25'},\n",
       "  {'idannonce': '145848825',\n",
       "   'idagence': '70928',\n",
       "   'idtiers': '100116',\n",
       "   'typedebien': 'Appartement',\n",
       "   'typedetransaction': ['vente'],\n",
       "   'idtypepublicationsourcecouplage': 'SL',\n",
       "   'position': '5',\n",
       "   'codepostal': '75015',\n",
       "   'ville': 'Paris 15ème',\n",
       "   'departement': 'Paris',\n",
       "   'codeinsee': '750115',\n",
       "   'produitsvisibilite': 'AD:AC:BB:AW',\n",
       "   'affichagetype': [{'name': 'liste', 'value': True}],\n",
       "   'cp': '75015',\n",
       "   'etage': '0',\n",
       "   'idtypechauffage': '0',\n",
       "   'idtypecommerce': '0',\n",
       "   'idtypecuisine': 'américaine',\n",
       "   'naturebien': '1',\n",
       "   'si_balcon': '0',\n",
       "   'nb_chambres': '0',\n",
       "   'nb_pieces': '1',\n",
       "   'si_sdbain': '0',\n",
       "   'si_sdEau': '0',\n",
       "   'nb_photos': '7',\n",
       "   'prix': '340000',\n",
       "   'surface': '33'},\n",
       "  {'idannonce': '146789577',\n",
       "   'idagence': '61382',\n",
       "   'idtiers': '66125',\n",
       "   'typedebien': 'Appartement',\n",
       "   'typedetransaction': ['vente de prestige'],\n",
       "   'idtypepublicationsourcecouplage': 'SL',\n",
       "   'position': '6',\n",
       "   'codepostal': '75006',\n",
       "   'ville': 'Paris 6ème',\n",
       "   'departement': 'Paris',\n",
       "   'codeinsee': '750106',\n",
       "   'produitsvisibilite': 'AD:AC:BB:AW',\n",
       "   'affichagetype': [{'name': 'liste', 'value': True}],\n",
       "   'cp': '75006',\n",
       "   'etage': '0',\n",
       "   'idtypechauffage': '0',\n",
       "   'idtypecommerce': '0',\n",
       "   'idtypecuisine': 'coin cuisine',\n",
       "   'naturebien': '1',\n",
       "   'si_balcon': '0',\n",
       "   'nb_chambres': '0',\n",
       "   'nb_pieces': '1',\n",
       "   'si_sdbain': '0',\n",
       "   'si_sdEau': '0',\n",
       "   'nb_photos': '5',\n",
       "   'prix': '345000',\n",
       "   'surface': '25'},\n",
       "  {'idannonce': '147169423',\n",
       "   'idagence': '89182',\n",
       "   'idtiers': '135945',\n",
       "   'typedebien': 'Appartement',\n",
       "   'typedetransaction': ['vente'],\n",
       "   'idtypepublicationsourcecouplage': 'SL',\n",
       "   'position': '7',\n",
       "   'codepostal': '75020',\n",
       "   'ville': 'Paris 20ème',\n",
       "   'departement': 'Paris',\n",
       "   'codeinsee': '750120',\n",
       "   'produitsvisibilite': 'AD:AC:BB:BX:AW',\n",
       "   'affichagetype': [{'name': 'liste', 'value': True}],\n",
       "   'cp': '75020',\n",
       "   'etage': '0',\n",
       "   'idtypechauffage': '0',\n",
       "   'idtypecommerce': '0',\n",
       "   'idtypecuisine': 'équipée',\n",
       "   'naturebien': '1',\n",
       "   'si_balcon': '0',\n",
       "   'nb_chambres': '1',\n",
       "   'nb_pieces': '2',\n",
       "   'si_sdbain': '0',\n",
       "   'si_sdEau': '0',\n",
       "   'nb_photos': '14',\n",
       "   'prix': '353000',\n",
       "   'surface': '32,01'},\n",
       "  {'idannonce': '147054441',\n",
       "   'idagence': '83390',\n",
       "   'idtiers': '121238',\n",
       "   'typedebien': 'Appartement',\n",
       "   'typedetransaction': ['vente'],\n",
       "   'idtypepublicationsourcecouplage': 'SL',\n",
       "   'position': '8',\n",
       "   'codepostal': '75004',\n",
       "   'ville': 'Paris 4ème',\n",
       "   'departement': 'Paris',\n",
       "   'codeinsee': '750104',\n",
       "   'produitsvisibilite': 'AD:AC:BB:BX:AW',\n",
       "   'affichagetype': [{'name': 'liste', 'value': True}],\n",
       "   'cp': '75004',\n",
       "   'etage': '0',\n",
       "   'idtypechauffage': '0',\n",
       "   'idtypecommerce': '0',\n",
       "   'idtypecuisine': 'séparée',\n",
       "   'naturebien': '1',\n",
       "   'si_balcon': '1',\n",
       "   'nb_chambres': '1',\n",
       "   'nb_pieces': '2',\n",
       "   'si_sdbain': '0',\n",
       "   'si_sdEau': '0',\n",
       "   'nb_photos': '12',\n",
       "   'prix': '360000',\n",
       "   'surface': '28'},\n",
       "  {'idannonce': '145547717',\n",
       "   'idagence': '9014',\n",
       "   'idtiers': '923',\n",
       "   'typedebien': 'Appartement',\n",
       "   'typedetransaction': ['vente'],\n",
       "   'idtypepublicationsourcecouplage': 'SL',\n",
       "   'position': '9',\n",
       "   'codepostal': '75010',\n",
       "   'ville': 'Paris 10ème',\n",
       "   'departement': 'Paris',\n",
       "   'codeinsee': '750110',\n",
       "   'produitsvisibilite': 'AD:AC:BB:BX:AW',\n",
       "   'affichagetype': [{'name': 'liste', 'value': True}],\n",
       "   'cp': '75010',\n",
       "   'etage': '0',\n",
       "   'idtypechauffage': '0',\n",
       "   'idtypecommerce': '0',\n",
       "   'idtypecuisine': 'séparée',\n",
       "   'naturebien': '1',\n",
       "   'si_balcon': '1',\n",
       "   'nb_chambres': '1',\n",
       "   'nb_pieces': '2',\n",
       "   'si_sdbain': '0',\n",
       "   'si_sdEau': '0',\n",
       "   'nb_photos': '8',\n",
       "   'prix': '363000',\n",
       "   'surface': '34'},\n",
       "  {'idannonce': '144456911',\n",
       "   'idagence': '49799',\n",
       "   'idtiers': '27457',\n",
       "   'typedebien': 'Appartement',\n",
       "   'typedetransaction': ['vente'],\n",
       "   'idtypepublicationsourcecouplage': 'SL',\n",
       "   'position': '10',\n",
       "   'codepostal': '75018',\n",
       "   'ville': 'Paris 18ème',\n",
       "   'departement': 'Paris',\n",
       "   'codeinsee': '750118',\n",
       "   'produitsvisibilite': 'AD:AC:BB:BX:AW',\n",
       "   'affichagetype': [{'name': 'liste', 'value': True}],\n",
       "   'cp': '75018',\n",
       "   'etage': '0',\n",
       "   'idtypechauffage': '0',\n",
       "   'idtypecommerce': '0',\n",
       "   'idtypecuisine': 'américaine équipée',\n",
       "   'naturebien': '1',\n",
       "   'si_balcon': '0',\n",
       "   'nb_chambres': '00',\n",
       "   'nb_pieces': '1',\n",
       "   'si_sdbain': '0',\n",
       "   'si_sdEau': '0',\n",
       "   'nb_photos': '5',\n",
       "   'prix': '369000',\n",
       "   'surface': '40,1'},\n",
       "  {'idannonce': '147542881',\n",
       "   'idagence': '330830',\n",
       "   'idtiers': '391853',\n",
       "   'typedebien': 'Appartement',\n",
       "   'typedetransaction': ['vente'],\n",
       "   'idtypepublicationsourcecouplage': 'SL',\n",
       "   'position': '11',\n",
       "   'codepostal': '75013',\n",
       "   'ville': 'Paris 13ème',\n",
       "   'departement': 'Paris',\n",
       "   'codeinsee': '750113',\n",
       "   'produitsvisibilite': 'AD:AC:BB:BX:AW',\n",
       "   'affichagetype': [{'name': 'liste', 'value': True}],\n",
       "   'cp': '75013',\n",
       "   'etage': '0',\n",
       "   'idtypechauffage': '0',\n",
       "   'idtypecommerce': '0',\n",
       "   'idtypecuisine': 'équipée',\n",
       "   'naturebien': '1',\n",
       "   'si_balcon': '0',\n",
       "   'nb_chambres': '00',\n",
       "   'nb_pieces': '1',\n",
       "   'si_sdbain': '0',\n",
       "   'si_sdEau': '0',\n",
       "   'nb_photos': '5',\n",
       "   'prix': '375000',\n",
       "   'surface': '29,46'},\n",
       "  {'idannonce': '146974713',\n",
       "   'idagence': '235986',\n",
       "   'idtiers': '266818',\n",
       "   'typedebien': 'Appartement',\n",
       "   'typedetransaction': ['vente'],\n",
       "   'idtypepublicationsourcecouplage': 'SL',\n",
       "   'position': '12',\n",
       "   'codepostal': '75012',\n",
       "   'ville': 'Paris 12ème',\n",
       "   'departement': 'Paris',\n",
       "   'codeinsee': '750112',\n",
       "   'produitsvisibilite': 'AD:AC:BB:BX:AW',\n",
       "   'affichagetype': [{'name': 'liste', 'value': True}],\n",
       "   'cp': '75012',\n",
       "   'etage': '0',\n",
       "   'idtypechauffage': '0',\n",
       "   'idtypecommerce': '0',\n",
       "   'idtypecuisine': 'américaine',\n",
       "   'naturebien': '1',\n",
       "   'si_balcon': '0',\n",
       "   'nb_chambres': '1',\n",
       "   'nb_pieces': '2',\n",
       "   'si_sdbain': '0',\n",
       "   'si_sdEau': '0',\n",
       "   'nb_photos': '10',\n",
       "   'prix': '384000',\n",
       "   'surface': '42'},\n",
       "  {'idannonce': '146190985',\n",
       "   'idagence': '53702',\n",
       "   'idtiers': '49125',\n",
       "   'typedebien': 'Appartement',\n",
       "   'typedetransaction': ['vente'],\n",
       "   'idtypepublicationsourcecouplage': 'SL',\n",
       "   'position': '13',\n",
       "   'codepostal': '75015',\n",
       "   'ville': 'Paris 15ème',\n",
       "   'departement': 'Paris',\n",
       "   'codeinsee': '750115',\n",
       "   'produitsvisibilite': 'AD:AC:BB:AW',\n",
       "   'affichagetype': [{'name': 'liste', 'value': True}],\n",
       "   'cp': '75015',\n",
       "   'etage': '0',\n",
       "   'idtypechauffage': '0',\n",
       "   'idtypecommerce': '0',\n",
       "   'idtypecuisine': 'séparée',\n",
       "   'naturebien': '1',\n",
       "   'si_balcon': '0',\n",
       "   'nb_chambres': '1',\n",
       "   'nb_pieces': '2',\n",
       "   'si_sdbain': '0',\n",
       "   'si_sdEau': '0',\n",
       "   'nb_photos': '5',\n",
       "   'prix': '385000',\n",
       "   'surface': '36'},\n",
       "  {'idannonce': '147184005',\n",
       "   'idagence': '70928',\n",
       "   'idtiers': '100116',\n",
       "   'typedebien': 'Appartement',\n",
       "   'typedetransaction': ['vente'],\n",
       "   'idtypepublicationsourcecouplage': 'SL',\n",
       "   'position': '14',\n",
       "   'codepostal': '75015',\n",
       "   'ville': 'Paris 15ème',\n",
       "   'departement': 'Paris',\n",
       "   'codeinsee': '750115',\n",
       "   'produitsvisibilite': 'AD:AC:BB:AW',\n",
       "   'affichagetype': [{'name': 'liste', 'value': True}],\n",
       "   'cp': '75015',\n",
       "   'etage': '0',\n",
       "   'idtypechauffage': '0',\n",
       "   'idtypecommerce': '0',\n",
       "   'idtypecuisine': 'américaine',\n",
       "   'naturebien': '1',\n",
       "   'si_balcon': '0',\n",
       "   'nb_chambres': '2',\n",
       "   'nb_pieces': '3',\n",
       "   'si_sdbain': '0',\n",
       "   'si_sdEau': '0',\n",
       "   'nb_photos': '7',\n",
       "   'prix': '437000',\n",
       "   'surface': '51'},\n",
       "  {'idannonce': '146337839',\n",
       "   'idagence': '49799',\n",
       "   'idtiers': '27457',\n",
       "   'typedebien': 'Appartement',\n",
       "   'typedetransaction': ['vente'],\n",
       "   'idtypepublicationsourcecouplage': 'SL',\n",
       "   'position': '15',\n",
       "   'codepostal': '75018',\n",
       "   'ville': 'Paris 18ème',\n",
       "   'departement': 'Paris',\n",
       "   'codeinsee': '750118',\n",
       "   'produitsvisibilite': 'AD:AC:BB:BX:AW',\n",
       "   'affichagetype': [{'name': 'liste', 'value': True}],\n",
       "   'cp': '75018',\n",
       "   'etage': '0',\n",
       "   'idtypechauffage': '0',\n",
       "   'idtypecommerce': '0',\n",
       "   'idtypecuisine': 'séparée équipée',\n",
       "   'naturebien': '1',\n",
       "   'si_balcon': '0',\n",
       "   'nb_chambres': '1',\n",
       "   'nb_pieces': '2',\n",
       "   'si_sdbain': '0',\n",
       "   'si_sdEau': '0',\n",
       "   'nb_photos': '8',\n",
       "   'prix': '450000',\n",
       "   'surface': '41'},\n",
       "  {'idannonce': '147218745',\n",
       "   'idagence': '79007',\n",
       "   'idtiers': '110926',\n",
       "   'typedebien': 'Appartement',\n",
       "   'typedetransaction': ['vente'],\n",
       "   'idtypepublicationsourcecouplage': 'SL',\n",
       "   'position': '16',\n",
       "   'codepostal': '75019',\n",
       "   'ville': 'Paris 19ème',\n",
       "   'departement': 'Paris',\n",
       "   'codeinsee': '750119',\n",
       "   'produitsvisibilite': 'AD:AC:BB:BX:AW',\n",
       "   'affichagetype': [{'name': 'liste', 'value': True}],\n",
       "   'cp': '75019',\n",
       "   'etage': '0',\n",
       "   'idtypechauffage': '0',\n",
       "   'idtypecommerce': '0',\n",
       "   'idtypecuisine': '0',\n",
       "   'naturebien': '1',\n",
       "   'si_balcon': '0',\n",
       "   'nb_chambres': '1',\n",
       "   'nb_pieces': '2',\n",
       "   'si_sdbain': '0',\n",
       "   'si_sdEau': '0',\n",
       "   'nb_photos': '7',\n",
       "   'prix': '450000',\n",
       "   'surface': '39'},\n",
       "  {'idannonce': '144415601',\n",
       "   'idagence': '79007',\n",
       "   'idtiers': '110926',\n",
       "   'typedebien': 'Loft/Atelier/Surface',\n",
       "   'typedetransaction': ['vente'],\n",
       "   'idtypepublicationsourcecouplage': 'SL',\n",
       "   'position': '17',\n",
       "   'codepostal': '75020',\n",
       "   'ville': 'Paris 20ème',\n",
       "   'departement': 'Paris',\n",
       "   'codeinsee': '750120',\n",
       "   'produitsvisibilite': 'AD:AC:BB:BX:AW',\n",
       "   'affichagetype': [{'name': 'liste', 'value': True}],\n",
       "   'cp': '75020',\n",
       "   'etage': '0',\n",
       "   'idtypechauffage': '0',\n",
       "   'idtypecommerce': '0',\n",
       "   'idtypecuisine': '0',\n",
       "   'naturebien': '1',\n",
       "   'si_balcon': '0',\n",
       "   'nb_chambres': '1',\n",
       "   'nb_pieces': '2',\n",
       "   'si_sdbain': '0',\n",
       "   'si_sdEau': '0',\n",
       "   'nb_photos': '7',\n",
       "   'prix': '450000',\n",
       "   'surface': '39'},\n",
       "  {'idannonce': '146219267',\n",
       "   'idagence': '6249',\n",
       "   'idtiers': '6717',\n",
       "   'typedebien': 'Appartement',\n",
       "   'typedetransaction': ['vente'],\n",
       "   'idtypepublicationsourcecouplage': 'SL',\n",
       "   'position': '18',\n",
       "   'codepostal': '75016',\n",
       "   'ville': 'Paris 16ème',\n",
       "   'departement': 'Paris',\n",
       "   'codeinsee': '750116',\n",
       "   'produitsvisibilite': 'AD:AC:BB:AW',\n",
       "   'affichagetype': [{'name': 'liste', 'value': True}],\n",
       "   'cp': '75016',\n",
       "   'etage': '0',\n",
       "   'idtypechauffage': '0',\n",
       "   'idtypecommerce': '0',\n",
       "   'idtypecuisine': 'aucune',\n",
       "   'naturebien': '1',\n",
       "   'si_balcon': '0',\n",
       "   'nb_chambres': '1',\n",
       "   'nb_pieces': '3',\n",
       "   'si_sdbain': '0',\n",
       "   'si_sdEau': '0',\n",
       "   'nb_photos': '4',\n",
       "   'prix': '451500',\n",
       "   'surface': '50,44'},\n",
       "  {'idannonce': '147500213',\n",
       "   'idagence': '79007',\n",
       "   'idtiers': '110926',\n",
       "   'typedebien': 'Appartement',\n",
       "   'typedetransaction': ['vente'],\n",
       "   'idtypepublicationsourcecouplage': 'SL',\n",
       "   'position': '19',\n",
       "   'codepostal': '75013',\n",
       "   'ville': 'Paris 13ème',\n",
       "   'departement': 'Paris',\n",
       "   'codeinsee': '750113',\n",
       "   'produitsvisibilite': 'AD:AC:BB:BX:AW',\n",
       "   'affichagetype': [{'name': 'liste', 'value': True}],\n",
       "   'cp': '75013',\n",
       "   'etage': '0',\n",
       "   'idtypechauffage': '0',\n",
       "   'idtypecommerce': '0',\n",
       "   'idtypecuisine': 'équipée',\n",
       "   'naturebien': '1',\n",
       "   'si_balcon': '0',\n",
       "   'nb_chambres': '1',\n",
       "   'nb_pieces': '3',\n",
       "   'si_sdbain': '0',\n",
       "   'si_sdEau': '0',\n",
       "   'nb_photos': '6',\n",
       "   'prix': '457000',\n",
       "   'surface': '42,7'}],\n",
       " 'ctx': {'positionCarousel': 0,\n",
       "  'tagFired': {'telephone_popup': False},\n",
       "  'transmitionOn': False}}"
      ]
     },
     "execution_count": 111,
     "metadata": {},
     "output_type": "execute_result"
    }
   ],
   "source": [
    "json_obj"
   ]
  },
  {
   "cell_type": "markdown",
   "metadata": {},
   "source": [
    "<div style=\"background-color: #dff0d8;border: 1px solid transparent;border-color: #d6e9c6;border-radius: 10px;color: #3c763d;font-size: 14px;line-height: 20px;margin: 7px 3px;padding: 15px;\">\n",
    "A vous de jouer maintenant...\n",
    "   \n",
    "Bon courage pour la suite !\n",
    "</div>"
   ]
  },
  {
   "cell_type": "code",
   "execution_count": null,
   "metadata": {},
   "outputs": [],
   "source": []
  },
  {
   "cell_type": "markdown",
   "metadata": {},
   "source": [
    "# End work"
   ]
  },
  {
   "cell_type": "code",
   "execution_count": null,
   "metadata": {},
   "outputs": [],
   "source": []
  },
  {
   "cell_type": "code",
   "execution_count": null,
   "metadata": {},
   "outputs": [],
   "source": []
  },
  {
   "cell_type": "code",
   "execution_count": 2,
   "metadata": {
    "ExecuteTime": {
     "end_time": "2019-05-17T13:26:28.542239Z",
     "start_time": "2019-05-17T13:26:28.538220Z"
    }
   },
   "outputs": [],
   "source": [
    "test=parameters.get('cities')"
   ]
  },
  {
   "cell_type": "code",
   "execution_count": 3,
   "metadata": {
    "ExecuteTime": {
     "end_time": "2019-05-17T13:26:32.097875Z",
     "start_time": "2019-05-17T13:26:32.092887Z"
    }
   },
   "outputs": [
    {
     "name": "stdout",
     "output_type": "stream",
     "text": [
      "['Nanterre', 92000, 920050]\n"
     ]
    }
   ],
   "source": [
    "print(test)"
   ]
  },
  {
   "cell_type": "code",
   "execution_count": 4,
   "metadata": {
    "ExecuteTime": {
     "end_time": "2019-05-17T13:26:35.285376Z",
     "start_time": "2019-05-17T13:26:35.264405Z"
    }
   },
   "outputs": [
    {
     "data": {
      "text/plain": [
       "int"
      ]
     },
     "execution_count": 4,
     "metadata": {},
     "output_type": "execute_result"
    }
   ],
   "source": [
    "type(test[1])"
   ]
  },
  {
   "cell_type": "code",
   "execution_count": 5,
   "metadata": {
    "ExecuteTime": {
     "end_time": "2019-05-17T13:26:39.530274Z",
     "start_time": "2019-05-17T13:26:39.525287Z"
    }
   },
   "outputs": [
    {
     "name": "stdout",
     "output_type": "stream",
     "text": [
      "Nanterre\n",
      "92000\n",
      "920050\n"
     ]
    }
   ],
   "source": [
    "for cp in parameters['cities']:\n",
    "    print(cp)"
   ]
  },
  {
   "cell_type": "code",
   "execution_count": 6,
   "metadata": {
    "ExecuteTime": {
     "end_time": "2019-05-17T13:27:00.176624Z",
     "start_time": "2019-05-17T13:27:00.172636Z"
    }
   },
   "outputs": [
    {
     "name": "stdout",
     "output_type": "stream",
     "text": [
      "92000\n"
     ]
    }
   ],
   "source": [
    "print(test[1])"
   ]
  },
  {
   "cell_type": "markdown",
   "metadata": {},
   "source": [
    "Pourquoi dans la fonction search 'ci' récupère les éléments de Nanterre et non de la liste [] donc 92000 ??? T_T"
   ]
  }
 ],
 "metadata": {
  "kernelspec": {
   "display_name": "Python 3",
   "language": "python",
   "name": "python3"
  },
  "language_info": {
   "codemirror_mode": {
    "name": "ipython",
    "version": 3
   },
   "file_extension": ".py",
   "mimetype": "text/x-python",
   "name": "python",
   "nbconvert_exporter": "python",
   "pygments_lexer": "ipython3",
   "version": "3.6.4"
  },
  "toc": {
   "base_numbering": 1,
   "nav_menu": {},
   "number_sections": true,
   "sideBar": true,
   "skip_h1_title": false,
   "title_cell": "Table of Contents",
   "title_sidebar": "Contents",
   "toc_cell": false,
   "toc_position": {},
   "toc_section_display": true,
   "toc_window_display": false
  },
  "varInspector": {
   "cols": {
    "lenName": 16,
    "lenType": 16,
    "lenVar": 40
   },
   "kernels_config": {
    "python": {
     "delete_cmd_postfix": "",
     "delete_cmd_prefix": "del ",
     "library": "var_list.py",
     "varRefreshCmd": "print(var_dic_list())"
    },
    "r": {
     "delete_cmd_postfix": ") ",
     "delete_cmd_prefix": "rm(",
     "library": "var_list.r",
     "varRefreshCmd": "cat(var_dic_list()) "
    }
   },
   "oldHeight": 315.416222,
   "position": {
    "height": "40px",
    "left": "985.667px",
    "right": "20px",
    "top": "108px",
    "width": "663.181px"
   },
   "types_to_exclude": [
    "module",
    "function",
    "builtin_function_or_method",
    "instance",
    "_Feature"
   ],
   "varInspector_section_display": "none",
   "window_display": true
  }
 },
 "nbformat": 4,
 "nbformat_minor": 2
}
