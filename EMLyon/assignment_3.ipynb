{
 "cells": [
  {
   "cell_type": "markdown",
   "metadata": {},
   "source": [
    "# Assignment \\#3 Olympic dataset\n",
    "\n",
    "#### Features description\n",
    "- *City*: City\n",
    "- *Edition*: Year\n",
    "- *Sport*: Sport\n",
    "- *Discipline*: Discipline\n",
    "- *Athlete*: Athlete's last name and first name (generally separated by a comma and a space)\n",
    "- *NOC*: Country, National Olympic Committee, ISO 3166-1 alpha-3\n",
    "- *Gender*: Men, Women\n",
    "- *Event*: Event\n",
    "- *Event_gender*: Event gender (F = Women, M = Men, X = NA)\n",
    "- *Medal*: Metal of medal (Bronze, Silver, Gold)"
   ]
  },
  {
   "cell_type": "code",
   "execution_count": 3,
   "metadata": {},
   "outputs": [],
   "source": [
    "# usual import and options\n",
    "import pandas as pd\n",
    "pd.set_option(\"display.max_rows\", 16)"
   ]
  },
  {
   "cell_type": "markdown",
   "metadata": {},
   "source": [
    "### Loading the dataset\n",
    "\n",
    "**file**: `'Summer Olympic medallists 1896 to 2008 - ALL MEDALISTS.txt'`\n",
    "\n",
    "**separator**: tab: `\\t`"
   ]
  },
  {
   "cell_type": "code",
   "execution_count": 5,
   "metadata": {},
   "outputs": [
    {
     "data": {
      "text/html": [
       "<div>\n",
       "<style scoped>\n",
       "    .dataframe tbody tr th:only-of-type {\n",
       "        vertical-align: middle;\n",
       "    }\n",
       "\n",
       "    .dataframe tbody tr th {\n",
       "        vertical-align: top;\n",
       "    }\n",
       "\n",
       "    .dataframe thead th {\n",
       "        text-align: right;\n",
       "    }\n",
       "</style>\n",
       "<table border=\"1\" class=\"dataframe\">\n",
       "  <thead>\n",
       "    <tr style=\"text-align: right;\">\n",
       "      <th></th>\n",
       "      <th>City</th>\n",
       "      <th>Edition</th>\n",
       "      <th>Sport</th>\n",
       "      <th>Discipline</th>\n",
       "      <th>Athlete</th>\n",
       "      <th>NOC</th>\n",
       "      <th>Gender</th>\n",
       "      <th>Event</th>\n",
       "      <th>Event_gender</th>\n",
       "      <th>Medal</th>\n",
       "    </tr>\n",
       "  </thead>\n",
       "  <tbody>\n",
       "    <tr>\n",
       "      <th>0</th>\n",
       "      <td>Athens</td>\n",
       "      <td>1896</td>\n",
       "      <td>Aquatics</td>\n",
       "      <td>Swimming</td>\n",
       "      <td>HAJOS, Alfred</td>\n",
       "      <td>HUN</td>\n",
       "      <td>Men</td>\n",
       "      <td>100m freestyle</td>\n",
       "      <td>M</td>\n",
       "      <td>Gold</td>\n",
       "    </tr>\n",
       "    <tr>\n",
       "      <th>1</th>\n",
       "      <td>Athens</td>\n",
       "      <td>1896</td>\n",
       "      <td>Aquatics</td>\n",
       "      <td>Swimming</td>\n",
       "      <td>HERSCHMANN, Otto</td>\n",
       "      <td>AUT</td>\n",
       "      <td>Men</td>\n",
       "      <td>100m freestyle</td>\n",
       "      <td>M</td>\n",
       "      <td>Silver</td>\n",
       "    </tr>\n",
       "    <tr>\n",
       "      <th>2</th>\n",
       "      <td>Athens</td>\n",
       "      <td>1896</td>\n",
       "      <td>Aquatics</td>\n",
       "      <td>Swimming</td>\n",
       "      <td>DRIVAS, Dimitrios</td>\n",
       "      <td>GRE</td>\n",
       "      <td>Men</td>\n",
       "      <td>100m freestyle for sailors</td>\n",
       "      <td>M</td>\n",
       "      <td>Bronze</td>\n",
       "    </tr>\n",
       "    <tr>\n",
       "      <th>3</th>\n",
       "      <td>Athens</td>\n",
       "      <td>1896</td>\n",
       "      <td>Aquatics</td>\n",
       "      <td>Swimming</td>\n",
       "      <td>MALOKINIS, Ioannis</td>\n",
       "      <td>GRE</td>\n",
       "      <td>Men</td>\n",
       "      <td>100m freestyle for sailors</td>\n",
       "      <td>M</td>\n",
       "      <td>Gold</td>\n",
       "    </tr>\n",
       "    <tr>\n",
       "      <th>4</th>\n",
       "      <td>Athens</td>\n",
       "      <td>1896</td>\n",
       "      <td>Aquatics</td>\n",
       "      <td>Swimming</td>\n",
       "      <td>CHASAPIS, Spiridon</td>\n",
       "      <td>GRE</td>\n",
       "      <td>Men</td>\n",
       "      <td>100m freestyle for sailors</td>\n",
       "      <td>M</td>\n",
       "      <td>Silver</td>\n",
       "    </tr>\n",
       "  </tbody>\n",
       "</table>\n",
       "</div>"
      ],
      "text/plain": [
       "<div>\n",
       "<style scoped>\n",
       "    .dataframe tbody tr th:only-of-type {\n",
       "        vertical-align: middle;\n",
       "    }\n",
       "\n",
       "    .dataframe tbody tr th {\n",
       "        vertical-align: top;\n",
       "    }\n",
       "\n",
       "    .dataframe thead th {\n",
       "        text-align: right;\n",
       "    }\n",
       "</style>\n",
       "<table border=\"1\" class=\"dataframe\">\n",
       "  <thead>\n",
       "    <tr style=\"text-align: right;\">\n",
       "      <th></th>\n",
       "      <th>City</th>\n",
       "      <th>Edition</th>\n",
       "      <th>Sport</th>\n",
       "      <th>Discipline</th>\n",
       "      <th>Athlete</th>\n",
       "      <th>NOC</th>\n",
       "      <th>Gender</th>\n",
       "      <th>Event</th>\n",
       "      <th>Event_gender</th>\n",
       "      <th>Medal</th>\n",
       "    </tr>\n",
       "  </thead>\n",
       "  <tbody>\n",
       "    <tr>\n",
       "      <th>0</th>\n",
       "      <td>Athens</td>\n",
       "      <td>1896</td>\n",
       "      <td>Aquatics</td>\n",
       "      <td>Swimming</td>\n",
       "      <td>HAJOS, Alfred</td>\n",
       "      <td>HUN</td>\n",
       "      <td>Men</td>\n",
       "      <td>100m freestyle</td>\n",
       "      <td>M</td>\n",
       "      <td>Gold</td>\n",
       "    </tr>\n",
       "    <tr>\n",
       "      <th>1</th>\n",
       "      <td>Athens</td>\n",
       "      <td>1896</td>\n",
       "      <td>Aquatics</td>\n",
       "      <td>Swimming</td>\n",
       "      <td>HERSCHMANN, Otto</td>\n",
       "      <td>AUT</td>\n",
       "      <td>Men</td>\n",
       "      <td>100m freestyle</td>\n",
       "      <td>M</td>\n",
       "      <td>Silver</td>\n",
       "    </tr>\n",
       "    <tr>\n",
       "      <th>2</th>\n",
       "      <td>Athens</td>\n",
       "      <td>1896</td>\n",
       "      <td>Aquatics</td>\n",
       "      <td>Swimming</td>\n",
       "      <td>DRIVAS, Dimitrios</td>\n",
       "      <td>GRE</td>\n",
       "      <td>Men</td>\n",
       "      <td>100m freestyle for sailors</td>\n",
       "      <td>M</td>\n",
       "      <td>Bronze</td>\n",
       "    </tr>\n",
       "    <tr>\n",
       "      <th>3</th>\n",
       "      <td>Athens</td>\n",
       "      <td>1896</td>\n",
       "      <td>Aquatics</td>\n",
       "      <td>Swimming</td>\n",
       "      <td>MALOKINIS, Ioannis</td>\n",
       "      <td>GRE</td>\n",
       "      <td>Men</td>\n",
       "      <td>100m freestyle for sailors</td>\n",
       "      <td>M</td>\n",
       "      <td>Gold</td>\n",
       "    </tr>\n",
       "    <tr>\n",
       "      <th>4</th>\n",
       "      <td>Athens</td>\n",
       "      <td>1896</td>\n",
       "      <td>Aquatics</td>\n",
       "      <td>Swimming</td>\n",
       "      <td>CHASAPIS, Spiridon</td>\n",
       "      <td>GRE</td>\n",
       "      <td>Men</td>\n",
       "      <td>100m freestyle for sailors</td>\n",
       "      <td>M</td>\n",
       "      <td>Silver</td>\n",
       "    </tr>\n",
       "  </tbody>\n",
       "</table>\n",
       "</div>"
      ]
     },
     "execution_count": 5,
     "metadata": {},
     "output_type": "execute_result"
    }
   ],
   "source": [
    "# LOADING THE DATASET\n",
    "# DO NOT CHANGE THIS CELL FOR GRADING\n",
    "# THE DATASET SHOULD BE ALONG WITH THE NOTEBOOK AND THE PYTHON FILE\n",
    "\n",
    "df = pd.read_table('Summer Olympic medallists 1896 to 2008 - ALL MEDALISTS.txt')\n",
    "df.head()"
   ]
  },
  {
   "cell_type": "markdown",
   "metadata": {},
   "source": [
    "#### Questions\n",
    "\n",
    "1) How many different cities have organized Olympic games?\n",
    "\n",
    "2) How many different editions of Olympic games are in the dataset?\n",
    "\n",
    "3) How many cities have organized more than one edition of Olympic games?\n",
    "\n",
    "4) Which sport distributed the most medals?\n",
    "\n",
    "5) Which discipline distributed the most medals?\n",
    "\n",
    "6) How many gold medals have been distributed?\n",
    "\n",
    "7) Which edition distributed the most silver medals?\n",
    "\n",
    "8) In how many different disciplines did men received medals (°)?\n",
    "\n",
    "9) In how many different disciplines did women received medals (°)?\n",
    "\n",
    "10) How many disciplines are dedicated to women (°)?\n",
    "\n",
    "11) How many countries have won a medal with an event gender equal to 'X'?\n",
    "\n",
    "12) How many countries have won a gold medal with an event gender equal to 'X'?\n",
    "\n",
    "13) How many different countries have an athlete whose surname is 'SCHMIDT'?\n",
    "\n",
    "14) How many different sports have the word 'ball' in their name?\n",
    "\n",
    "15) How many Bronze or Silver medals have been won by any athlete whose surname is 'KIM'?\n",
    "\n",
    "16) How many different events are in the dataset?\n",
    "\n",
    "17) How many different events including numbers in their description are in the dataset?\n",
    "\n",
    "18) Which athlete has participated in the most editions?\n",
    "\n",
    "19) How many sports have the same number of Gold, Silver and Bronze medals?\n",
    "\n",
    "20) How many athletes have strictly more Gold medals than Silver and more Silver medals than Bronze?\n",
    "\n",
    "21) Which country has won at least one medal in each olympic edition?\n",
    "\n",
    "22) Add a column named 'Score' with 1 for Bronze, 2 for Silver and 3 for Gold medals. What is the total sum of scores?\n",
    "\n",
    "23) Which athlete has the largest sum of scores?\n",
    "\n",
    "24) Which woman athlete has the largest sum of scores?\n",
    "\n",
    "25) For how many countries the sum of men's scores is equal to the sum of women's scores?\n",
    "\n",
    "26) Add a column named 'Trial' with the concatenation of columns 'Discipline', 'Sport' and 'Event' separated by a space. How many different trials are in the dataset?\n",
    "\n",
    "27) Which edition has the largest number of different trials?\n",
    "\n",
    "28) Add a column 'First Name' with the first name of athletes. How many different first names are in the dataset?\n",
    "\n",
    "29) Which athlete's first name has the largest sum of scores?\n",
    "\n",
    "30) Which woman athlete's first name has the largest sum of scores (°)?\n",
    "\n",
    "(°) Use the 'Gender' column."
   ]
  },
  {
   "cell_type": "code",
   "execution_count": 3,
   "metadata": {},
   "outputs": [
    {
     "data": {
      "text/plain": [
       "22"
      ]
     },
     "execution_count": 3,
     "metadata": {},
     "output_type": "execute_result"
    }
   ],
   "source": [
    "# 1) How many different cities have organized Olympic games?\n",
    "def exercise_01():\n",
    "    result = df['City'].nunique()\n",
    "    return result\n",
    "\n",
    "# run and check\n",
    "exercise_01()"
   ]
  },
  {
   "cell_type": "code",
   "execution_count": 59,
   "metadata": {},
   "outputs": [
    {
     "data": {
      "text/plain": [
       "26"
      ]
     },
     "execution_count": 59,
     "metadata": {},
     "output_type": "execute_result"
    }
   ],
   "source": [
    "# 2) How many different editions of Olympic games are in the dataset?\n",
    "def exercise_02():\n",
    "    result = df['Edition'].nunique()\n",
    "    return result\n",
    "\n",
    "# run and check\n",
    "exercise_02()"
   ]
  },
  {
   "cell_type": "code",
   "execution_count": 60,
   "metadata": {},
   "outputs": [
    {
     "data": {
      "text/plain": [
       "4"
      ]
     },
     "execution_count": 60,
     "metadata": {},
     "output_type": "execute_result"
    }
   ],
   "source": [
    "# 3) How many cities have organized more than one edition of Olympic games?\n",
    "\n",
    "def exercise_03():\n",
    "    var = df.pivot_table(values='Edition',\n",
    "               index='City',\n",
    "               aggfunc='nunique')\n",
    "    var['Edition'] > 1\n",
    "    result =  var.loc[var['Edition'] > 1,\"City\"].count()\n",
    "    return result\n",
    "    \n",
    "# run and check\n",
    "exercise_03()"
   ]
  },
  {
   "cell_type": "code",
   "execution_count": 63,
   "metadata": {},
   "outputs": [
    {
     "data": {
      "text/plain": [
       "'Aquatics'"
      ]
     },
     "execution_count": 63,
     "metadata": {},
     "output_type": "execute_result"
    }
   ],
   "source": [
    "# 4) Which sport distributed the most medals?\n",
    "\n",
    "def exercise_04():\n",
    "    result = result = df[\"Sport\"].value_counts().keys()[0]\n",
    "    return result\n",
    "\n",
    "# run and check\n",
    "exercise_04()"
   ]
  },
  {
   "cell_type": "code",
   "execution_count": 61,
   "metadata": {},
   "outputs": [
    {
     "data": {
      "text/plain": [
       "'Athletics'"
      ]
     },
     "execution_count": 61,
     "metadata": {},
     "output_type": "execute_result"
    }
   ],
   "source": [
    "# 5) Which discipline distributed the most medals?\n",
    "\n",
    "def exercise_05():\n",
    "    result = df[\"Discipline\"].value_counts().keys()[0]\n",
    "    return result\n",
    "\n",
    "# run and check\n",
    "exercise_05()"
   ]
  },
  {
   "cell_type": "code",
   "execution_count": 64,
   "metadata": {},
   "outputs": [
    {
     "data": {
      "text/plain": [
       "9850"
      ]
     },
     "execution_count": 64,
     "metadata": {},
     "output_type": "execute_result"
    }
   ],
   "source": [
    "# 6) How many gold medals have been distributed?\n",
    "\n",
    "def exercise_06():\n",
    "    result = result = pd.crosstab(df['Edition'],df['Medal'],margins= True)\n",
    "    return result.loc['All','Gold']\n",
    "\n",
    "# run and check\n",
    "exercise_06()"
   ]
  },
  {
   "cell_type": "code",
   "execution_count": 65,
   "metadata": {},
   "outputs": [
    {
     "data": {
      "text/plain": [
       "2000"
      ]
     },
     "execution_count": 65,
     "metadata": {},
     "output_type": "execute_result"
    }
   ],
   "source": [
    "# 7) Which edition distributed the most silver medals?\n",
    "\n",
    "def exercise_07():\n",
    "    result = result = pd.crosstab(df[\"Edition\"], df['Medal'])\n",
    "    return result['Silver'].idxmax()\n",
    "\n",
    "# run and check\n",
    "exercise_07()"
   ]
  },
  {
   "cell_type": "code",
   "execution_count": 67,
   "metadata": {},
   "outputs": [
    {
     "data": {
      "text/plain": [
       "53"
      ]
     },
     "execution_count": 67,
     "metadata": {},
     "output_type": "execute_result"
    }
   ],
   "source": [
    "# 8) In how many different disciplines did men received medals (°)?\n",
    "\n",
    "def exercise_08():\n",
    "    result = df.pivot_table(values='Medal',index='Discipline',columns='Gender',aggfunc='count')\n",
    "    return (result['Men'].notnull()).sum()\n",
    "\n",
    "# run and check\n",
    "exercise_08()"
   ]
  },
  {
   "cell_type": "code",
   "execution_count": 68,
   "metadata": {},
   "outputs": [
    {
     "data": {
      "text/plain": [
       "40"
      ]
     },
     "execution_count": 68,
     "metadata": {},
     "output_type": "execute_result"
    }
   ],
   "source": [
    "# 9) In how many different disciplines did women received medals (°)?\n",
    "\n",
    "def exercise_09():\n",
    "    result = df.pivot_table(values='Medal',index='Discipline',columns='Gender',aggfunc='count')\n",
    "    return (result['Women'].notnull()).sum()\n",
    "\n",
    "# run and check\n",
    "exercise_09()"
   ]
  },
  {
   "cell_type": "code",
   "execution_count": 75,
   "metadata": {},
   "outputs": [
    {
     "data": {
      "text/plain": [
       "56"
      ]
     },
     "execution_count": 75,
     "metadata": {},
     "output_type": "execute_result"
    }
   ],
   "source": [
    "# 10) How many disciplines are dedicated to women (°)?\n",
    "\n",
    "def exercise_10():\n",
    "    result = pd.crosstab(df['Discipline'],df['Gender'])\n",
    "    return (result['Women'].notnull()).sum()\n",
    "    \n",
    "# run and check\n",
    "exercise_10()"
   ]
  },
  {
   "cell_type": "code",
   "execution_count": 70,
   "metadata": {},
   "outputs": [
    {
     "data": {
      "text/plain": [
       "49"
      ]
     },
     "execution_count": 70,
     "metadata": {},
     "output_type": "execute_result"
    }
   ],
   "source": [
    "# 11) How many countries have won a medal with an event gender equal to 'X'?\n",
    "\n",
    "def exercise_11():\n",
    "    result=df.pivot_table(values='Medal',index='NOC',columns='Event_gender',aggfunc='count')\n",
    "    return (result['X'].notnull()).sum()\n",
    "\n",
    "# run and check\n",
    "exercise_11()"
   ]
  },
  {
   "cell_type": "code",
   "execution_count": 4,
   "metadata": {},
   "outputs": [
    {
     "data": {
      "text/plain": [
       "33"
      ]
     },
     "execution_count": 4,
     "metadata": {},
     "output_type": "execute_result"
    }
   ],
   "source": [
    "# 12) How many countries have won a gold medal with an event gender equal to 'X'?\n",
    "\n",
    "def exercise_12():\n",
    "    genderRecords = df.loc[df['Event_gender'] == 'X']\n",
    "    goldRecords = genderRecords.loc[genderRecords['Medal'] == 'Gold']\n",
    "    return len(goldRecords.groupby('NOC').groups)\n",
    "\n",
    "# run and check\n",
    "exercise_12()"
   ]
  },
  {
   "cell_type": "code",
   "execution_count": 6,
   "metadata": {},
   "outputs": [
    {
     "name": "stderr",
     "output_type": "stream",
     "text": [
      "/Users/Philippe/Programmation/beta-Carotene/venv/lib/python3.6/site-packages/ipykernel_launcher.py:10: UserWarning: Pandas doesn't allow columns to be created via a new attribute name - see https://pandas.pydata.org/pandas-docs/stable/indexing.html#attribute-access\n",
      "  # Remove the CWD from sys.path while we load stuff.\n"
     ]
    },
    {
     "ename": "KeyError",
     "evalue": "\"['SCHMIDT'] not in index\"",
     "traceback": [
      "\u001b[0;31m---------------------------------------------------------------------------\u001b[0m",
      "\u001b[0;31mKeyError\u001b[0m                                  Traceback (most recent call last)",
      "\u001b[0;32m<ipython-input-6-db6388721b80>\u001b[0m in \u001b[0;36m<module>\u001b[0;34m()\u001b[0m\n\u001b[1;32m     17\u001b[0m \u001b[0;34m\u001b[0m\u001b[0m\n\u001b[1;32m     18\u001b[0m \u001b[0;31m# run and check\u001b[0m\u001b[0;34m\u001b[0m\u001b[0;34m\u001b[0m\u001b[0m\n\u001b[0;32m---> 19\u001b[0;31m \u001b[0mexercise_13\u001b[0m\u001b[0;34m(\u001b[0m\u001b[0;34m)\u001b[0m\u001b[0;34m\u001b[0m\u001b[0m\n\u001b[0m",
      "\u001b[0;32m<ipython-input-6-db6388721b80>\u001b[0m in \u001b[0;36mexercise_13\u001b[0;34m()\u001b[0m\n\u001b[1;32m     10\u001b[0m     \u001b[0mdf\u001b[0m\u001b[0;34m.\u001b[0m\u001b[0mSCHMIDT\u001b[0m \u001b[0;34m=\u001b[0m \u001b[0mdf\u001b[0m\u001b[0;34m.\u001b[0m\u001b[0mAthlete\u001b[0m\u001b[0;34m.\u001b[0m\u001b[0mapply\u001b[0m\u001b[0;34m(\u001b[0m\u001b[0mcount_schmidt\u001b[0m\u001b[0;34m)\u001b[0m\u001b[0;34m\u001b[0m\u001b[0m\n\u001b[1;32m     11\u001b[0m \u001b[0;34m\u001b[0m\u001b[0m\n\u001b[0;32m---> 12\u001b[0;31m     \u001b[0mtemp\u001b[0m \u001b[0;34m=\u001b[0m \u001b[0mdf\u001b[0m\u001b[0;34m[\u001b[0m\u001b[0;34m[\u001b[0m\u001b[0;34m'NOC'\u001b[0m\u001b[0;34m,\u001b[0m \u001b[0;34m'SCHMIDT'\u001b[0m\u001b[0;34m]\u001b[0m\u001b[0;34m]\u001b[0m\u001b[0;34m.\u001b[0m\u001b[0mgroupby\u001b[0m\u001b[0;34m(\u001b[0m\u001b[0;34m'NOC'\u001b[0m\u001b[0;34m)\u001b[0m\u001b[0;34m.\u001b[0m\u001b[0magg\u001b[0m\u001b[0;34m(\u001b[0m\u001b[0msum\u001b[0m\u001b[0;34m)\u001b[0m\u001b[0;34m\u001b[0m\u001b[0m\n\u001b[0m\u001b[1;32m     13\u001b[0m     \u001b[0mtemp\u001b[0m \u001b[0;34m=\u001b[0m \u001b[0mlen\u001b[0m\u001b[0;34m(\u001b[0m\u001b[0mtemp\u001b[0m\u001b[0;34m[\u001b[0m\u001b[0mtemp\u001b[0m\u001b[0;34m.\u001b[0m\u001b[0mSCHMIDT\u001b[0m \u001b[0;34m>\u001b[0m \u001b[0;36m0\u001b[0m\u001b[0;34m]\u001b[0m\u001b[0;34m)\u001b[0m\u001b[0;34m\u001b[0m\u001b[0m\n\u001b[1;32m     14\u001b[0m \u001b[0;34m\u001b[0m\u001b[0m\n",
      "\u001b[0;32m/Users/Philippe/Programmation/beta-Carotene/venv/lib/python3.6/site-packages/pandas/core/frame.py\u001b[0m in \u001b[0;36m__getitem__\u001b[0;34m(self, key)\u001b[0m\n\u001b[1;32m   2680\u001b[0m         \u001b[0;32mif\u001b[0m \u001b[0misinstance\u001b[0m\u001b[0;34m(\u001b[0m\u001b[0mkey\u001b[0m\u001b[0;34m,\u001b[0m \u001b[0;34m(\u001b[0m\u001b[0mSeries\u001b[0m\u001b[0;34m,\u001b[0m \u001b[0mnp\u001b[0m\u001b[0;34m.\u001b[0m\u001b[0mndarray\u001b[0m\u001b[0;34m,\u001b[0m \u001b[0mIndex\u001b[0m\u001b[0;34m,\u001b[0m \u001b[0mlist\u001b[0m\u001b[0;34m)\u001b[0m\u001b[0;34m)\u001b[0m\u001b[0;34m:\u001b[0m\u001b[0;34m\u001b[0m\u001b[0m\n\u001b[1;32m   2681\u001b[0m             \u001b[0;31m# either boolean or fancy integer index\u001b[0m\u001b[0;34m\u001b[0m\u001b[0;34m\u001b[0m\u001b[0m\n\u001b[0;32m-> 2682\u001b[0;31m             \u001b[0;32mreturn\u001b[0m \u001b[0mself\u001b[0m\u001b[0;34m.\u001b[0m\u001b[0m_getitem_array\u001b[0m\u001b[0;34m(\u001b[0m\u001b[0mkey\u001b[0m\u001b[0;34m)\u001b[0m\u001b[0;34m\u001b[0m\u001b[0m\n\u001b[0m\u001b[1;32m   2683\u001b[0m         \u001b[0;32melif\u001b[0m \u001b[0misinstance\u001b[0m\u001b[0;34m(\u001b[0m\u001b[0mkey\u001b[0m\u001b[0;34m,\u001b[0m \u001b[0mDataFrame\u001b[0m\u001b[0;34m)\u001b[0m\u001b[0;34m:\u001b[0m\u001b[0;34m\u001b[0m\u001b[0m\n\u001b[1;32m   2684\u001b[0m             \u001b[0;32mreturn\u001b[0m \u001b[0mself\u001b[0m\u001b[0;34m.\u001b[0m\u001b[0m_getitem_frame\u001b[0m\u001b[0;34m(\u001b[0m\u001b[0mkey\u001b[0m\u001b[0;34m)\u001b[0m\u001b[0;34m\u001b[0m\u001b[0m\n",
      "\u001b[0;32m/Users/Philippe/Programmation/beta-Carotene/venv/lib/python3.6/site-packages/pandas/core/frame.py\u001b[0m in \u001b[0;36m_getitem_array\u001b[0;34m(self, key)\u001b[0m\n\u001b[1;32m   2724\u001b[0m             \u001b[0;32mreturn\u001b[0m \u001b[0mself\u001b[0m\u001b[0;34m.\u001b[0m\u001b[0m_take\u001b[0m\u001b[0;34m(\u001b[0m\u001b[0mindexer\u001b[0m\u001b[0;34m,\u001b[0m \u001b[0maxis\u001b[0m\u001b[0;34m=\u001b[0m\u001b[0;36m0\u001b[0m\u001b[0;34m)\u001b[0m\u001b[0;34m\u001b[0m\u001b[0m\n\u001b[1;32m   2725\u001b[0m         \u001b[0;32melse\u001b[0m\u001b[0;34m:\u001b[0m\u001b[0;34m\u001b[0m\u001b[0m\n\u001b[0;32m-> 2726\u001b[0;31m             \u001b[0mindexer\u001b[0m \u001b[0;34m=\u001b[0m \u001b[0mself\u001b[0m\u001b[0;34m.\u001b[0m\u001b[0mloc\u001b[0m\u001b[0;34m.\u001b[0m\u001b[0m_convert_to_indexer\u001b[0m\u001b[0;34m(\u001b[0m\u001b[0mkey\u001b[0m\u001b[0;34m,\u001b[0m \u001b[0maxis\u001b[0m\u001b[0;34m=\u001b[0m\u001b[0;36m1\u001b[0m\u001b[0;34m)\u001b[0m\u001b[0;34m\u001b[0m\u001b[0m\n\u001b[0m\u001b[1;32m   2727\u001b[0m             \u001b[0;32mreturn\u001b[0m \u001b[0mself\u001b[0m\u001b[0;34m.\u001b[0m\u001b[0m_take\u001b[0m\u001b[0;34m(\u001b[0m\u001b[0mindexer\u001b[0m\u001b[0;34m,\u001b[0m \u001b[0maxis\u001b[0m\u001b[0;34m=\u001b[0m\u001b[0;36m1\u001b[0m\u001b[0;34m)\u001b[0m\u001b[0;34m\u001b[0m\u001b[0m\n\u001b[1;32m   2728\u001b[0m \u001b[0;34m\u001b[0m\u001b[0m\n",
      "\u001b[0;32m/Users/Philippe/Programmation/beta-Carotene/venv/lib/python3.6/site-packages/pandas/core/indexing.py\u001b[0m in \u001b[0;36m_convert_to_indexer\u001b[0;34m(self, obj, axis, is_setter)\u001b[0m\n\u001b[1;32m   1325\u001b[0m                 \u001b[0;32mif\u001b[0m \u001b[0mmask\u001b[0m\u001b[0;34m.\u001b[0m\u001b[0many\u001b[0m\u001b[0;34m(\u001b[0m\u001b[0;34m)\u001b[0m\u001b[0;34m:\u001b[0m\u001b[0;34m\u001b[0m\u001b[0m\n\u001b[1;32m   1326\u001b[0m                     raise KeyError('{mask} not in index'\n\u001b[0;32m-> 1327\u001b[0;31m                                    .format(mask=objarr[mask]))\n\u001b[0m\u001b[1;32m   1328\u001b[0m \u001b[0;34m\u001b[0m\u001b[0m\n\u001b[1;32m   1329\u001b[0m                 \u001b[0;32mreturn\u001b[0m \u001b[0mcom\u001b[0m\u001b[0;34m.\u001b[0m\u001b[0m_values_from_object\u001b[0m\u001b[0;34m(\u001b[0m\u001b[0mindexer\u001b[0m\u001b[0;34m)\u001b[0m\u001b[0;34m\u001b[0m\u001b[0m\n",
      "\u001b[0;31mKeyError\u001b[0m: \"['SCHMIDT'] not in index\""
     ],
     "output_type": "error"
    }
   ],
   "source": [
    "# 13) How many different countries have an athlete whose surname is 'SCHMIDT'?\n",
    "\n",
    "def count_schmidt(str):\n",
    "    return str.split(',')[0] == 'SCHMIDT'\n",
    "#    return str.count('SCHMIDT')\n",
    "\n",
    "\n",
    "def exercise_13():\n",
    "\n",
    "    df['Schmidt'] = df.Athlete.apply(count_schmidt)\n",
    "\n",
    "    temp = df[['NOC', 'SCHMIDT']].groupby('NOC').agg(sum)\n",
    "    temp = len(temp[temp.SCHMIDT > 0])\n",
    "\n",
    "    result = temp\n",
    "    return result\n",
    "\n",
    "# run and check\n",
    "exercise_13()"
   ]
  },
  {
   "cell_type": "code",
   "execution_count": null,
   "metadata": {},
   "outputs": [],
   "source": [
    "# 14) How many different sports have the word 'ball' in their name?\n",
    "# Pareil\n",
    "\n",
    "def exercise_14():\n",
    "    result = None\n",
    "    return result\n",
    "\n",
    "# run and check\n",
    "exercise_14()"
   ]
  },
  {
   "cell_type": "code",
   "execution_count": 75,
   "metadata": {},
   "outputs": [
    {
     "name": "stdout",
     "output_type": "stream",
     "text": [
      "                        City  Edition          Sport     Discipline  \\\n",
      "5040               Amsterdam     1928       Aquatics       Swimming   \n",
      "7964                  London     1948  Weightlifting  Weightlifting   \n",
      "8850                Helsinki     1952  Weightlifting  Weightlifting   \n",
      "9732   Melbourne / Stockholm     1956  Weightlifting  Weightlifting   \n",
      "11395                  Tokyo     1964           Judo           Judo   \n",
      "11980                 Mexico     1968      Athletics      Athletics   \n",
      "12599                 Mexico     1968     Volleyball     Volleyball   \n",
      "13087                 Munich     1972         Boxing         Boxing   \n",
      "...                      ...      ...            ...            ...   \n",
      "26943                 Athens     2004   Table Tennis   Table Tennis   \n",
      "26945                 Athens     2004   Table Tennis   Table Tennis   \n",
      "27919                Beijing     2008         Boxing         Boxing   \n",
      "28451                Beijing     2008       Handball       Handball   \n",
      "28452                Beijing     2008       Handball       Handball   \n",
      "28453                Beijing     2008       Handball       Handball   \n",
      "28633                Beijing     2008           Judo           Judo   \n",
      "28952                Beijing     2008   Table Tennis   Table Tennis   \n",
      "\n",
      "                   Athlete  NOC Gender                              Event  \\\n",
      "5040   MCKIM, Josephine E.  USA  Women                     400m freestyle   \n",
      "7964         KIM, Sung-Jip  KOR    Men  67.5 - 75kg, total (middleweight)   \n",
      "8850         KIM, Sung-Jip  KOR    Men  67.5 - 75kg, total (middleweight)   \n",
      "9732        KIM, Chang-Hee  KOR    Men   60 - 67.5kg, total (lightweight)   \n",
      "11395         KIM, Eui-Tae  KOR    Men           68 - 80kg (middleweight)   \n",
      "11980      KIMIHARA, Kenji  JPN    Men                           marathon   \n",
      "12599        KIMURA, Kenji  JPN    Men                         volleyball   \n",
      "13087           KIM, U Gil  PRK    Men           - 48kg (light-flyweight)   \n",
      "...                    ...  ...    ...                                ...   \n",
      "26943         KIM, Kyungah  KOR  Women                            singles   \n",
      "26945        KIM, Hyang Mi  PRK  Women                            singles   \n",
      "27919         KIM, Jungjoo  KOR    Men                         64 - 69 kg   \n",
      "28451         KIM, Chayoun  KOR  Women                           handball   \n",
      "28452          KIM, Namsun  KOR  Women                           handball   \n",
      "28453             KIM, Ona  KOR  Women                           handball   \n",
      "28633          KIM, Jaebum  KOR    Men      73 - 81kg (half-middleweight)   \n",
      "28952         KIM, Kyungah  KOR  Women                               team   \n",
      "\n",
      "      Event_gender   Medal  SCHMIDT  Kim  KIM   Surname     First_name  \n",
      "5040             W  Bronze        0    0    0     MCKIM   Josephine E.  \n",
      "7964             M  Bronze        0    1    1       KIM       Sung-Jip  \n",
      "8850             M  Bronze        0    1    1       KIM       Sung-Jip  \n",
      "9732             M  Bronze        0    1    1       KIM      Chang-Hee  \n",
      "11395            M  Bronze        0    1    1       KIM        Eui-Tae  \n",
      "11980            M  Silver        0    0    0  KIMIHARA          Kenji  \n",
      "12599            M  Silver        0    0    0    KIMURA          Kenji  \n",
      "13087            M  Silver        0    1    1       KIM          U Gil  \n",
      "...            ...     ...      ...  ...  ...       ...            ...  \n",
      "26943            W  Bronze        0    1    1       KIM        Kyungah  \n",
      "26945            W  Silver        0    1    1       KIM       Hyang Mi  \n",
      "27919            M  Bronze        0    1    1       KIM        Jungjoo  \n",
      "28451            W  Bronze        0    1    1       KIM        Chayoun  \n",
      "28452            W  Bronze        0    1    1       KIM         Namsun  \n",
      "28453            W  Bronze        0    1    1       KIM            Ona  \n",
      "28633            M  Silver        0    1    1       KIM         Jaebum  \n",
      "28952            W  Bronze        0    1    1       KIM        Kyungah  \n",
      "\n",
      "[92 rows x 15 columns]\n"
     ]
    },
    {
     "name": "stderr",
     "output_type": "stream",
     "text": [
      "/Users/Philippe/Programmation/beta-Carotene/venv/lib/python3.6/site-packages/ipykernel_launcher.py:10: UserWarning: Boolean Series key will be reindexed to match DataFrame index.\n",
      "  # Remove the CWD from sys.path while we load stuff.\n"
     ]
    }
   ],
   "source": [
    "# 15) How many Bronze or Silver medals have been won by any athlete whose surname is 'KIM'?\n",
    "\n",
    "def count_kim(str):\n",
    "    return str.count('KIM')\n",
    "\n",
    "\n",
    "def exercise_15():\n",
    "    df.Kim = df.Athlete.apply(count_kim)\n",
    "    \n",
    "    print(df[df.Medal.isin([\"Bronze\", \"Silver\"])][df.Kim > 0])\n",
    "    \n",
    "    result = None\n",
    "    return result\n",
    "\n",
    "# run and check\n",
    "exercise_15()"
   ]
  },
  {
   "cell_type": "code",
   "execution_count": 55,
   "metadata": {},
   "outputs": [
    {
     "data": {
      "text/plain": [
       "577"
      ]
     },
     "execution_count": 55,
     "metadata": {},
     "output_type": "execute_result"
    }
   ],
   "source": [
    "# 16) How many different events are in the dataset?\n",
    "\n",
    "def exercise_16():\n",
    "    result = df['Event'].nunique()\n",
    "    return result\n",
    "\n",
    "\n",
    "# run and check\n",
    "exercise_16()"
   ]
  },
  {
   "cell_type": "code",
   "execution_count": null,
   "metadata": {},
   "outputs": [],
   "source": [
    "# 17) How many different events including numbers in their description are in the dataset?\n",
    "\n",
    "def exercise_17():\n",
    "    result = None\n",
    "    return result\n",
    "\n",
    "\n",
    "# run and check\n",
    "exercise_17()"
   ]
  },
  {
   "cell_type": "code",
   "execution_count": null,
   "metadata": {},
   "outputs": [],
   "source": [
    "# 18) Which athlete has participated in the most editions?\n",
    "\n",
    "def exercise_18():\n",
    "    result = None\n",
    "    return result\n",
    "\n",
    "\n",
    "# run and check\n",
    "exercise_18()"
   ]
  },
  {
   "cell_type": "code",
   "execution_count": null,
   "metadata": {},
   "outputs": [],
   "source": [
    "# 19) How many sports distributed exactly the same number of Gold, Silver and Bronze medals?\n",
    "\n",
    "def exercise_19():\n",
    "    result = None\n",
    "    return result\n",
    "\n",
    "# run and check\n",
    "exercise_19()"
   ]
  },
  {
   "cell_type": "code",
   "execution_count": null,
   "metadata": {},
   "outputs": [],
   "source": [
    "# 20) How many athletes received strictly more Gold medals than Silver and strictly more Silver medals than Bronze?\n",
    "\n",
    "def exercise_20():\n",
    "    result = None\n",
    "    return result\n",
    "\n",
    "# run and check\n",
    "exercise_20()"
   ]
  },
  {
   "cell_type": "code",
   "execution_count": null,
   "metadata": {},
   "outputs": [],
   "source": [
    "# 21) Which country has won at least one medal in each olympic edition?\n",
    "\n",
    "def exercise_21():\n",
    "    result = None\n",
    "    return result\n",
    "\n",
    "# run and check\n",
    "exercise_21()"
   ]
  },
  {
   "cell_type": "code",
   "execution_count": null,
   "metadata": {},
   "outputs": [],
   "source": [
    "# 22) What is the total sum of scores?\n",
    "\n",
    "def exercise_22():\n",
    "    result = None\n",
    "    return result\n",
    "\n",
    "# run and check\n",
    "exercise_22()"
   ]
  },
  {
   "cell_type": "code",
   "execution_count": null,
   "metadata": {},
   "outputs": [],
   "source": [
    "# 23) Which athlete has the largest sum of scores?\n",
    "\n",
    "def exercise_23():\n",
    "    result = None\n",
    "    return result\n",
    "\n",
    "# run and check\n",
    "exercise_23()"
   ]
  },
  {
   "cell_type": "code",
   "execution_count": null,
   "metadata": {},
   "outputs": [],
   "source": [
    "# 24) Which woman athlete has the largest sum of scores (°)?\n",
    "\n",
    "def exercise_24():\n",
    "    result = None\n",
    "    return result\n",
    "\n",
    "# run and check\n",
    "exercise_24()"
   ]
  },
  {
   "cell_type": "code",
   "execution_count": null,
   "metadata": {},
   "outputs": [],
   "source": [
    "# 25) For how many countries the sum of men' scores is equal to the sum of women' scores?\n",
    "\n",
    "def exercise_25():\n",
    "    result = None\n",
    "    return result\n",
    "\n",
    "# run and check\n",
    "exercise_25()"
   ]
  },
  {
   "cell_type": "code",
   "execution_count": 42,
   "metadata": {},
   "outputs": [
    {
     "data": {
      "text/plain": [
       "577"
      ]
     },
     "execution_count": 42,
     "metadata": {},
     "output_type": "execute_result"
    }
   ],
   "source": [
    "# 26) How many different trials are in the dataset?\n",
    "\n",
    "def exercise_26():\n",
    "    result = df.Event.nunique()\n",
    "    return result\n",
    "\n",
    "# run and check\n",
    "exercise_26()"
   ]
  },
  {
   "cell_type": "code",
   "execution_count": 76,
   "metadata": {},
   "outputs": [
    {
     "data": {
      "text/html": [
       "<div>\n",
       "<style scoped>\n",
       "    .dataframe tbody tr th:only-of-type {\n",
       "        vertical-align: middle;\n",
       "    }\n",
       "\n",
       "    .dataframe tbody tr th {\n",
       "        vertical-align: top;\n",
       "    }\n",
       "\n",
       "    .dataframe thead th {\n",
       "        text-align: right;\n",
       "    }\n",
       "</style>\n",
       "<table border=\"1\" class=\"dataframe\">\n",
       "  <thead>\n",
       "    <tr style=\"text-align: right;\">\n",
       "      <th></th>\n",
       "      <th>Event</th>\n",
       "    </tr>\n",
       "    <tr>\n",
       "      <th>Edition</th>\n",
       "      <th></th>\n",
       "    </tr>\n",
       "  </thead>\n",
       "  <tbody>\n",
       "    <tr>\n",
       "      <th>1896</th>\n",
       "      <td>43</td>\n",
       "    </tr>\n",
       "    <tr>\n",
       "      <th>1900</th>\n",
       "      <td>78</td>\n",
       "    </tr>\n",
       "    <tr>\n",
       "      <th>1904</th>\n",
       "      <td>92</td>\n",
       "    </tr>\n",
       "    <tr>\n",
       "      <th>1908</th>\n",
       "      <td>103</td>\n",
       "    </tr>\n",
       "    <tr>\n",
       "      <th>1912</th>\n",
       "      <td>95</td>\n",
       "    </tr>\n",
       "    <tr>\n",
       "      <th>1920</th>\n",
       "      <td>142</td>\n",
       "    </tr>\n",
       "    <tr>\n",
       "      <th>1924</th>\n",
       "      <td>114</td>\n",
       "    </tr>\n",
       "    <tr>\n",
       "      <th>1928</th>\n",
       "      <td>92</td>\n",
       "    </tr>\n",
       "    <tr>\n",
       "      <th>...</th>\n",
       "      <td>...</td>\n",
       "    </tr>\n",
       "    <tr>\n",
       "      <th>1980</th>\n",
       "      <td>146</td>\n",
       "    </tr>\n",
       "    <tr>\n",
       "      <th>1984</th>\n",
       "      <td>158</td>\n",
       "    </tr>\n",
       "    <tr>\n",
       "      <th>1988</th>\n",
       "      <td>163</td>\n",
       "    </tr>\n",
       "    <tr>\n",
       "      <th>1992</th>\n",
       "      <td>178</td>\n",
       "    </tr>\n",
       "    <tr>\n",
       "      <th>1996</th>\n",
       "      <td>180</td>\n",
       "    </tr>\n",
       "    <tr>\n",
       "      <th>2000</th>\n",
       "      <td>202</td>\n",
       "    </tr>\n",
       "    <tr>\n",
       "      <th>2004</th>\n",
       "      <td>204</td>\n",
       "    </tr>\n",
       "    <tr>\n",
       "      <th>2008</th>\n",
       "      <td>201</td>\n",
       "    </tr>\n",
       "  </tbody>\n",
       "</table>\n",
       "<p>26 rows × 1 columns</p>\n",
       "</div>"
      ],
      "text/plain": [
       "         Event\n",
       "Edition       \n",
       "1896        43\n",
       "1900        78\n",
       "1904        92\n",
       "1908       103\n",
       "1912        95\n",
       "1920       142\n",
       "1924       114\n",
       "1928        92\n",
       "...        ...\n",
       "1980       146\n",
       "1984       158\n",
       "1988       163\n",
       "1992       178\n",
       "1996       180\n",
       "2000       202\n",
       "2004       204\n",
       "2008       201\n",
       "\n",
       "[26 rows x 1 columns]"
      ]
     },
     "execution_count": 76,
     "metadata": {},
     "output_type": "execute_result"
    }
   ],
   "source": [
    "# 27) Which edition has the most different trials?\n",
    "\n",
    "def exercise_27():\n",
    "    result = df.groupby(['Edition']).agg({'Event': 'nunique'})\n",
    "    return result\n",
    "\n",
    "# run and check\n",
    "exercise_27()"
   ]
  },
  {
   "cell_type": "code",
   "execution_count": 40,
   "metadata": {},
   "outputs": [
    {
     "data": {
      "text/plain": [
       "9773"
      ]
     },
     "execution_count": 40,
     "metadata": {},
     "output_type": "execute_result"
    }
   ],
   "source": [
    "# 28) How many different first names are in the dataset?\n",
    "\n",
    "def exercise_28():\n",
    "    result = df.First_name.nunique()\n",
    "    return result\n",
    "\n",
    "# run and check\n",
    "exercise_28()"
   ]
  },
  {
   "cell_type": "code",
   "execution_count": 38,
   "metadata": {},
   "outputs": [
    {
     "data": {
      "text/plain": [
       "'LATYNINA, Larisa'"
      ]
     },
     "execution_count": 38,
     "metadata": {},
     "output_type": "execute_result"
    }
   ],
   "source": [
    "# 29) Which athlete's first name has the largest sum of scores?\n",
    "\n",
    "def surname(str):\n",
    "    return str.split(',')[0]\n",
    "\n",
    "def firstname(str):\n",
    "    fn = str.split(',')\n",
    "    if len(fn) == 1:\n",
    "        return ''\n",
    "    else:\n",
    "        return fn[1]\n",
    "\n",
    "def exercise_29():\n",
    "    \n",
    "    df['Surname'] = df.Athlete.apply(surname)\n",
    "    df['First_name'] = df.Athlete.apply(firstname)\n",
    "    result = df.groupby('Athlete').size().idxmax()\n",
    "\n",
    "    return result\n",
    "\n",
    "# run and check\n",
    "exercise_29()"
   ]
  },
  {
   "cell_type": "code",
   "execution_count": 39,
   "metadata": {},
   "outputs": [
    {
     "data": {
      "text/plain": [
       "'LATYNINA, Larisa'"
      ]
     },
     "execution_count": 39,
     "metadata": {},
     "output_type": "execute_result"
    }
   ],
   "source": [
    "# 30) Which woman athlete's first name has the largest sum of scores (°)?\n",
    "\n",
    "def exercise_30():\n",
    "    result = df[df.Gender == 'Women'].groupby('Athlete').size().idxmax()\n",
    "    return result\n",
    "\n",
    "# run and check\n",
    "exercise_30()"
   ]
  },
  {
   "cell_type": "code",
   "execution_count": null,
   "metadata": {},
   "outputs": [],
   "source": []
  }
 ],
 "metadata": {
  "kernelspec": {
   "display_name": "Python 3",
   "language": "python",
   "name": "python3"
  },
  "language_info": {
   "codemirror_mode": {
    "name": "ipython",
    "version": 3
   },
   "file_extension": ".py",
   "mimetype": "text/x-python",
   "name": "python",
   "nbconvert_exporter": "python",
   "pygments_lexer": "ipython3",
   "version": "3.6.5"
  }
 },
 "nbformat": 4,
 "nbformat_minor": 2
}
