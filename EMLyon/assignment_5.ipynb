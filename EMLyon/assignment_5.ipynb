{
 "cells": [
  {
   "cell_type": "markdown",
   "metadata": {},
   "source": [
    "# Assignment \\#5 the Gapminder dataset\n",
    "\n",
    "There are 4 files for this assignment:\n",
    "- `population_total.csv`: total population, per country and per year (1800 to 2018)\n",
    "- `life_expectancy_years.csv`: life expectancy, per country and per year (1800 to 2018)\n",
    "- `income_per_person.csv`: income per person, per country and per year (1800 to 2018)\n",
    "- `countries_total.csv`: countries and regions (Asia, Europe, Africa, Oceania, Americas)\n",
    "\n",
    "As usual the files must be along with your notebook and not in a dedicated folder."
   ]
  },
  {
   "cell_type": "markdown",
   "metadata": {},
   "source": [
    "**Important note about the `geo` columns accross the `DataFrame` objects**: \n",
    "- The 3 first files contain a field named `geo` with the names of the different countries. The last file contains also a column with the different countries. It is renamed to `geo` on load to ease the merges that would have to be performed (option `on='geo'` of `merge()` function).\n",
    "- The name of the countries have to be processed as is, without trying to homogenize them accross the different files.\n",
    "- In order to avoid discrepancies between results, all joins should be performed by using the `how='inner'`option."
   ]
  },
  {
   "cell_type": "markdown",
   "metadata": {},
   "source": [
    "**Hint about the `python_data_science_1` and `python_data_science_2` notebooks**\n",
    "\n",
    "- The 20 following questions in parts A and B rely on materials that have been studied in the notebook `python_data_science_1`: 1 to 13, 16, 19 and 22 to 26\n",
    "- The 10 following questions in parts A and B rely on materials that will be studied in the notebook `python_data_science_2`: 14 to 15, 17 to 18, 20 to 21 and 27 to 30"
   ]
  },
  {
   "cell_type": "markdown",
   "metadata": {},
   "source": [
    "**Caution**: Questions asking to return a floating point number (ratio, mean, percentage) should round it to 1 decimal place:\n",
    "- Such questions are marked with `(°)`\n",
    "- For instance, if the variable `result` is a floting point number, e.g. `3.14159265359`\n",
    "- The functions should return `round(result, 1)` instead of `result`, e.g. `3.1`\n",
    "- Percentages should be returned as floating point numbers (not with the % mark)."
   ]
  },
  {
   "cell_type": "markdown",
   "metadata": {},
   "source": [
    "#### Questions\n",
    "\n",
    "**A. In this part, we will only deal with the data for year 2018**\n",
    "\n",
    "- Total population by country in 2018:\n",
    "\n",
    "1) What is the sum of the total population in 2018?\n",
    "\n",
    "2) Which country has the largest total population in 2018?\n",
    "\n",
    "3) Which country has the smallest total population in 2018?\n",
    "\n",
    "- Life expectation by country in 2018:\n",
    "\n",
    "4) What is the average life expectancy in 2018 (°)?\n",
    "\n",
    "5) What is the difference between the largest and the smallest life expectancy in 2018?\n",
    "\n",
    "6) Which country has the largest life expectancy in 2018?\n",
    "\n",
    "7) Which country has the smallest life expectancy in 2018?\n",
    "\n",
    "8) In 2018, below which life expectancy threshold a country is in the first decile (°)?\n",
    "\n",
    "- Income per person by country in 2018:\n",
    "\n",
    "9) What is the average income per person in 2018 (°)?\n",
    "\n",
    "10) What is the ratio between the largest and the smallest income per person in 2018 (°)?\n",
    "\n",
    "11) Which country has the largest income per person in 2018?\n",
    "\n",
    "12) Which country has the smallest income per person in 2018?\n",
    "\n",
    "13) In 2018, above which income per person threshold a country is in the last decile (°)?\n",
    "\n",
    "- Perform an inner join between the population and the country `DataFrame` objects:\n",
    "\n",
    "14) Which region has the largest total population in 2018?\n",
    "\n",
    "15) Which region has the smallest total population in 2018?\n",
    "\n",
    "- Perform an inner join between the life expectancy and the total population `DataFrame` objects, then an inner join with the result and the country `DataFrame` object. Remember that overlapping columns names are renamed automatically with the `_x` and `_y` suffixes in the left and right side:\n",
    "\n",
    "16) What is the weighted average life expectancy in 2018 (°) (+)?\n",
    "\n",
    "17) What is the largest weighted average life expectancy by region in 2018 (°) (+)?\n",
    "\n",
    "18) What is the smallest weighted average life expectancy by region in 2018 (°) (+)?\n",
    "\n",
    "- Perform an inner join between the life expectancy and the total population `DataFrame` objects, then an inner join with the result and the country `DataFrame` objects. Remember that overlapping columns are renamed automatically with the `_x` and `_y` suffixes in the left and right side:\n",
    "\n",
    "19) What is the weighted average income per person in 2018 (°) (++)?\n",
    "\n",
    "20) Which region has the largest weighted average income per person in 2018 (++)?\n",
    "\n",
    "21) Which region has the smallest weighted average income per person in 2018 (++)?\n",
    "\n",
    "(+) The *weighted average life expectancy* is computed with the sum of the products of life expectancy by total population of each country divided by the sum of total population of each country. It can be computed for all countries in the world or for all countries in each region.\n",
    "\n",
    "Hint: weighted average life expectancy $= \\frac{\\displaystyle\\sum_{i} life_{i} \\times pop_{i}}{\\displaystyle\\sum_{i} pop_{i}}$\n",
    "\n",
    "(++) The *weighted average income per person* is computed with the sum of the products of income per person by total population of each country divided by the sum of total population of each country. It can be computed for all countries in the world or for all countries in each region.\n",
    "\n",
    "Hint: weighted average income per person $= \\frac{\\displaystyle\\sum_{i} income_{i} \\times pop_{i}}{\\displaystyle\\sum_{i} pop_{i}}$\n",
    "\n",
    "(°) Result of functions should be rounded to 1 decimal place."
   ]
  },
  {
   "cell_type": "markdown",
   "metadata": {},
   "source": [
    "**B. In this part, we deal with data for all years**\n",
    "\n",
    "22) Which country has the smallest mean life expectancy accross years?\n",
    "\n",
    "23) Which country has the smallest mean income per person accross years?\n",
    "\n",
    "24) Compute the correlation of total population between all countries accross years. Which country has the highest mean correlation with the other ones? \n",
    "\n",
    "25) Compute the correlation of life expectancy between all countries accross years. Which country has the highest mean correlation of life expectancy with the other ones? \n",
    "\n",
    "26) Compute the correlation of income per person between all countries accross years. Which country has the highest mean correlation of income per person with the other ones?\n",
    "\n",
    "27) Perform a wide to long format transformation of the total population `DataFrame` object by using the `melt()` function. What is the length of the new `DataFrame` object for total population?\n",
    "\n",
    "28) Perform a wide to long format transformation of the life expectancy `DataFrame` object by using the `melt()` function. What is the length of the new `DataFrame` object for life expectancy?\n",
    "\n",
    "29) Perform a wide to long format transformation of the income per person `DataFrame` object by using the `melt()` function. What is the length of the new `DataFrame` object for income per person?\n",
    "\n",
    "30) Perform 3 wide to long format transformations of the total population, life expectancy and income per person `DataFrame` objects by using the `melt()` function. Then perform an inner join of the 2 first `DataFrame` objects on both `geo` and `Year` by using the `merge()` function. Then perform another inner join of this `DataFrame` object and the third one. You should obtain a final `DataFrame` object with 5 columns: `geo`, `Year`, `Total Population`, `Life Expectancy` and `Income Per Person`. Remove lines with `NA` . What is the length of the final `DataFrame` object obtained?"
   ]
  },
  {
   "cell_type": "markdown",
   "metadata": {},
   "source": [
    "**Homework, out of the scope of the assignment**\n",
    "\n",
    "- Homogenize the country names accross the different files and compare the results of the 30 exercises.\n",
    "\n",
    "- Implement a graphics showing, for a given year, all countries positionned with their income per person on the `x` axis and their life expectancy on the `y` axis, and represented by their name, as well as, a circle which radius is linked to their total population and which color is linked to their region."
   ]
  },
  {
   "cell_type": "code",
   "execution_count": 37,
   "metadata": {},
   "outputs": [],
   "source": [
    "# import\n",
    "import numpy as np\n",
    "import pandas as pd"
   ]
  },
  {
   "cell_type": "code",
   "execution_count": 38,
   "metadata": {},
   "outputs": [],
   "source": [
    "# loading the data\n",
    "\n",
    "df_population = pd.read_csv('population_total.csv')\n",
    "df_life = pd.read_csv('life_expectancy_years.csv')\n",
    "df_income = pd.read_csv('income_per_person.csv')\n",
    "df_country = pd.read_csv('countries_total.csv',\n",
    "                           engine='python',\n",
    "                           usecols=[0, 5],\n",
    "                           header=0,\n",
    "                           names=['geo', 'region'])"
   ]
  },
  {
   "cell_type": "code",
   "execution_count": 39,
   "metadata": {},
   "outputs": [
    {
     "data": {
      "text/html": [
       "<div>\n",
       "<style scoped>\n",
       "    .dataframe tbody tr th:only-of-type {\n",
       "        vertical-align: middle;\n",
       "    }\n",
       "\n",
       "    .dataframe tbody tr th {\n",
       "        vertical-align: top;\n",
       "    }\n",
       "\n",
       "    .dataframe thead th {\n",
       "        text-align: right;\n",
       "    }\n",
       "</style>\n",
       "<table border=\"1\" class=\"dataframe\">\n",
       "  <thead>\n",
       "    <tr style=\"text-align: right;\">\n",
       "      <th></th>\n",
       "      <th>geo</th>\n",
       "      <th>1800</th>\n",
       "      <th>1801</th>\n",
       "      <th>1802</th>\n",
       "      <th>1803</th>\n",
       "      <th>1804</th>\n",
       "      <th>1805</th>\n",
       "      <th>1806</th>\n",
       "      <th>1807</th>\n",
       "      <th>1808</th>\n",
       "      <th>...</th>\n",
       "      <th>2009</th>\n",
       "      <th>2010</th>\n",
       "      <th>2011</th>\n",
       "      <th>2012</th>\n",
       "      <th>2013</th>\n",
       "      <th>2014</th>\n",
       "      <th>2015</th>\n",
       "      <th>2016</th>\n",
       "      <th>2017</th>\n",
       "      <th>2018</th>\n",
       "    </tr>\n",
       "  </thead>\n",
       "  <tbody>\n",
       "    <tr>\n",
       "      <th>0</th>\n",
       "      <td>Afghanistan</td>\n",
       "      <td>3280000</td>\n",
       "      <td>3280000</td>\n",
       "      <td>3280000</td>\n",
       "      <td>3280000</td>\n",
       "      <td>3280000</td>\n",
       "      <td>3280000</td>\n",
       "      <td>3280000</td>\n",
       "      <td>3280000</td>\n",
       "      <td>3280000</td>\n",
       "      <td>...</td>\n",
       "      <td>28000000</td>\n",
       "      <td>28800000</td>\n",
       "      <td>29700000</td>\n",
       "      <td>30700000</td>\n",
       "      <td>31700000</td>\n",
       "      <td>32800000</td>\n",
       "      <td>33700000</td>\n",
       "      <td>34700000</td>\n",
       "      <td>35500000</td>\n",
       "      <td>36400000</td>\n",
       "    </tr>\n",
       "    <tr>\n",
       "      <th>1</th>\n",
       "      <td>Albania</td>\n",
       "      <td>410000</td>\n",
       "      <td>412000</td>\n",
       "      <td>413000</td>\n",
       "      <td>414000</td>\n",
       "      <td>416000</td>\n",
       "      <td>417000</td>\n",
       "      <td>418000</td>\n",
       "      <td>420000</td>\n",
       "      <td>421000</td>\n",
       "      <td>...</td>\n",
       "      <td>2960000</td>\n",
       "      <td>2940000</td>\n",
       "      <td>2930000</td>\n",
       "      <td>2920000</td>\n",
       "      <td>2920000</td>\n",
       "      <td>2920000</td>\n",
       "      <td>2920000</td>\n",
       "      <td>2930000</td>\n",
       "      <td>2930000</td>\n",
       "      <td>2930000</td>\n",
       "    </tr>\n",
       "    <tr>\n",
       "      <th>2</th>\n",
       "      <td>Algeria</td>\n",
       "      <td>2500000</td>\n",
       "      <td>2510000</td>\n",
       "      <td>2520000</td>\n",
       "      <td>2530000</td>\n",
       "      <td>2540000</td>\n",
       "      <td>2550000</td>\n",
       "      <td>2560000</td>\n",
       "      <td>2570000</td>\n",
       "      <td>2580000</td>\n",
       "      <td>...</td>\n",
       "      <td>35500000</td>\n",
       "      <td>36100000</td>\n",
       "      <td>36800000</td>\n",
       "      <td>37600000</td>\n",
       "      <td>38300000</td>\n",
       "      <td>39100000</td>\n",
       "      <td>39900000</td>\n",
       "      <td>40600000</td>\n",
       "      <td>41300000</td>\n",
       "      <td>42000000</td>\n",
       "    </tr>\n",
       "    <tr>\n",
       "      <th>3</th>\n",
       "      <td>Andorra</td>\n",
       "      <td>2650</td>\n",
       "      <td>2650</td>\n",
       "      <td>2650</td>\n",
       "      <td>2650</td>\n",
       "      <td>2650</td>\n",
       "      <td>2650</td>\n",
       "      <td>2650</td>\n",
       "      <td>2650</td>\n",
       "      <td>2650</td>\n",
       "      <td>...</td>\n",
       "      <td>84500</td>\n",
       "      <td>84400</td>\n",
       "      <td>83800</td>\n",
       "      <td>82400</td>\n",
       "      <td>80800</td>\n",
       "      <td>79200</td>\n",
       "      <td>78000</td>\n",
       "      <td>77300</td>\n",
       "      <td>77000</td>\n",
       "      <td>77000</td>\n",
       "    </tr>\n",
       "    <tr>\n",
       "      <th>4</th>\n",
       "      <td>Angola</td>\n",
       "      <td>1570000</td>\n",
       "      <td>1570000</td>\n",
       "      <td>1570000</td>\n",
       "      <td>1570000</td>\n",
       "      <td>1570000</td>\n",
       "      <td>1570000</td>\n",
       "      <td>1570000</td>\n",
       "      <td>1570000</td>\n",
       "      <td>1570000</td>\n",
       "      <td>...</td>\n",
       "      <td>22500000</td>\n",
       "      <td>23400000</td>\n",
       "      <td>24200000</td>\n",
       "      <td>25100000</td>\n",
       "      <td>26000000</td>\n",
       "      <td>26900000</td>\n",
       "      <td>27900000</td>\n",
       "      <td>28800000</td>\n",
       "      <td>29800000</td>\n",
       "      <td>30800000</td>\n",
       "    </tr>\n",
       "  </tbody>\n",
       "</table>\n",
       "<p>5 rows × 220 columns</p>\n",
       "</div>"
      ],
      "text/plain": [
       "           geo     1800     1801     1802     1803     1804     1805     1806  \\\n",
       "0  Afghanistan  3280000  3280000  3280000  3280000  3280000  3280000  3280000   \n",
       "1      Albania   410000   412000   413000   414000   416000   417000   418000   \n",
       "2      Algeria  2500000  2510000  2520000  2530000  2540000  2550000  2560000   \n",
       "3      Andorra     2650     2650     2650     2650     2650     2650     2650   \n",
       "4       Angola  1570000  1570000  1570000  1570000  1570000  1570000  1570000   \n",
       "\n",
       "      1807     1808    ...         2009      2010      2011      2012  \\\n",
       "0  3280000  3280000    ...     28000000  28800000  29700000  30700000   \n",
       "1   420000   421000    ...      2960000   2940000   2930000   2920000   \n",
       "2  2570000  2580000    ...     35500000  36100000  36800000  37600000   \n",
       "3     2650     2650    ...        84500     84400     83800     82400   \n",
       "4  1570000  1570000    ...     22500000  23400000  24200000  25100000   \n",
       "\n",
       "       2013      2014      2015      2016      2017      2018  \n",
       "0  31700000  32800000  33700000  34700000  35500000  36400000  \n",
       "1   2920000   2920000   2920000   2930000   2930000   2930000  \n",
       "2  38300000  39100000  39900000  40600000  41300000  42000000  \n",
       "3     80800     79200     78000     77300     77000     77000  \n",
       "4  26000000  26900000  27900000  28800000  29800000  30800000  \n",
       "\n",
       "[5 rows x 220 columns]"
      ]
     },
     "execution_count": 39,
     "metadata": {},
     "output_type": "execute_result"
    }
   ],
   "source": [
    "df_population.head()"
   ]
  },
  {
   "cell_type": "code",
   "execution_count": 40,
   "metadata": {},
   "outputs": [],
   "source": [
    "# What is the sum of the total population in 2018?\n",
    "def exercise_01():\n",
    "    result = df_population['2018'].sum()\n",
    "    return result"
   ]
  },
  {
   "cell_type": "code",
   "execution_count": 41,
   "metadata": {},
   "outputs": [
    {
     "data": {
      "text/plain": [
       "7595616701"
      ]
     },
     "execution_count": 41,
     "metadata": {},
     "output_type": "execute_result"
    }
   ],
   "source": [
    "# run and check\n",
    "exercise_01()"
   ]
  },
  {
   "cell_type": "code",
   "execution_count": 42,
   "metadata": {},
   "outputs": [],
   "source": [
    "# Which country has the largest total population in 2018?\n",
    "def exercise_02():\n",
    "    idx = df_population['2018'].idxmax()\n",
    "    result = df_population.iloc[idx, 0]\n",
    "    return result"
   ]
  },
  {
   "cell_type": "code",
   "execution_count": 43,
   "metadata": {},
   "outputs": [
    {
     "data": {
      "text/plain": [
       "'China'"
      ]
     },
     "execution_count": 43,
     "metadata": {},
     "output_type": "execute_result"
    }
   ],
   "source": [
    "# run and check\n",
    "exercise_02()"
   ]
  },
  {
   "cell_type": "code",
   "execution_count": 44,
   "metadata": {},
   "outputs": [],
   "source": [
    "# Which country has the smallest total population in 2018?\n",
    "def exercise_03():\n",
    "    idx = df_population['2018'].idxmin()\n",
    "    result = df_population.iloc[idx, 0]\n",
    "    return result"
   ]
  },
  {
   "cell_type": "code",
   "execution_count": 45,
   "metadata": {},
   "outputs": [
    {
     "data": {
      "text/plain": [
       "'Holy See'"
      ]
     },
     "execution_count": 45,
     "metadata": {},
     "output_type": "execute_result"
    }
   ],
   "source": [
    "# run and check\n",
    "exercise_03()"
   ]
  },
  {
   "cell_type": "code",
   "execution_count": 46,
   "metadata": {},
   "outputs": [],
   "source": [
    "# What is the average life expectancy in 2018 (°)?\n",
    "def exercise_04():\n",
    "    result = df_life['2018'].mean()\n",
    "    return round(result, 1)"
   ]
  },
  {
   "cell_type": "code",
   "execution_count": 47,
   "metadata": {},
   "outputs": [
    {
     "data": {
      "text/plain": [
       "72.7"
      ]
     },
     "execution_count": 47,
     "metadata": {},
     "output_type": "execute_result"
    }
   ],
   "source": [
    "# run and check\n",
    "exercise_04()"
   ]
  },
  {
   "cell_type": "code",
   "execution_count": 48,
   "metadata": {},
   "outputs": [],
   "source": [
    "# What is the difference between the largest and the smallest life expectancy in 2018?\n",
    "def exercise_05():\n",
    "    result =df_life['2018'].max()-df_life['2018'].min()\n",
    "    return result"
   ]
  },
  {
   "cell_type": "code",
   "execution_count": 49,
   "metadata": {},
   "outputs": [
    {
     "data": {
      "text/plain": [
       "33.1"
      ]
     },
     "execution_count": 49,
     "metadata": {},
     "output_type": "execute_result"
    }
   ],
   "source": [
    "# run and check\n",
    "exercise_05()"
   ]
  },
  {
   "cell_type": "code",
   "execution_count": 50,
   "metadata": {},
   "outputs": [],
   "source": [
    "# Which country has the largest life expectancy in 2018?\n",
    "\n",
    "def exercise_06():\n",
    "    result = df_life.iloc[df_life['2018'].idxmax(), 0]\n",
    "    return result"
   ]
  },
  {
   "cell_type": "code",
   "execution_count": 51,
   "metadata": {},
   "outputs": [
    {
     "data": {
      "text/plain": [
       "'Japan'"
      ]
     },
     "execution_count": 51,
     "metadata": {},
     "output_type": "execute_result"
    }
   ],
   "source": [
    "# run and check\n",
    "exercise_06()"
   ]
  },
  {
   "cell_type": "code",
   "execution_count": 52,
   "metadata": {},
   "outputs": [],
   "source": [
    "# Which country has the smallest life expectancy in 2018?\n",
    "def exercise_07():\n",
    "    result = df_life.iloc[df_life['2018'].idxmin(), 0]\n",
    "    return result"
   ]
  },
  {
   "cell_type": "code",
   "execution_count": 53,
   "metadata": {},
   "outputs": [
    {
     "data": {
      "text/plain": [
       "'Lesotho'"
      ]
     },
     "execution_count": 53,
     "metadata": {},
     "output_type": "execute_result"
    }
   ],
   "source": [
    "# run and check\n",
    "exercise_07()"
   ]
  },
  {
   "cell_type": "code",
   "execution_count": 102,
   "metadata": {},
   "outputs": [],
   "source": [
    "# In 2018, below which life expectancy threshold a country is in the first decile (°)?\n",
    "def exercise_08():\n",
    "    result = pd.qcut(df_life['2018'],10, retbins=True)\n",
    "    return round(result[1][1], 1)"
   ]
  },
  {
   "cell_type": "code",
   "execution_count": 103,
   "metadata": {},
   "outputs": [
    {
     "data": {
      "text/plain": [
       "62.0"
      ]
     },
     "execution_count": 103,
     "metadata": {},
     "output_type": "execute_result"
    }
   ],
   "source": [
    "# run and check\n",
    "exercise_08()"
   ]
  },
  {
   "cell_type": "code",
   "execution_count": 56,
   "metadata": {},
   "outputs": [],
   "source": [
    "# What is the average income per person in 2018 (°)?\n",
    "def exercise_09():\n",
    "    result = df_income['2018'].mean()\n",
    "    return round(result, 1)"
   ]
  },
  {
   "cell_type": "code",
   "execution_count": 57,
   "metadata": {},
   "outputs": [
    {
     "data": {
      "text/plain": [
       "18241.5"
      ]
     },
     "execution_count": 57,
     "metadata": {},
     "output_type": "execute_result"
    }
   ],
   "source": [
    "# run and check\n",
    "exercise_09()"
   ]
  },
  {
   "cell_type": "code",
   "execution_count": 58,
   "metadata": {},
   "outputs": [],
   "source": [
    "# What is the ratio between the largest and the smallest income per person in 2018\n",
    "def exercise_10():\n",
    "    result = df_income['2018'].min()/df_income['2018'].max()\n",
    "    return result"
   ]
  },
  {
   "cell_type": "code",
   "execution_count": 59,
   "metadata": {},
   "outputs": [
    {
     "data": {
      "text/plain": [
       "0.005198347107438017"
      ]
     },
     "execution_count": 59,
     "metadata": {},
     "output_type": "execute_result"
    }
   ],
   "source": [
    "# run and check\n",
    "exercise_10()"
   ]
  },
  {
   "cell_type": "code",
   "execution_count": 60,
   "metadata": {},
   "outputs": [],
   "source": [
    "# Which country has the largest income per person in 2018?\n",
    "def exercise_11():\n",
    "    result = df_income.iloc[df_income['2018'].idxmax(),0]\n",
    "    return result"
   ]
  },
  {
   "cell_type": "code",
   "execution_count": 61,
   "metadata": {},
   "outputs": [
    {
     "data": {
      "text/plain": [
       "'Qatar'"
      ]
     },
     "execution_count": 61,
     "metadata": {},
     "output_type": "execute_result"
    }
   ],
   "source": [
    "# run and check\n",
    "exercise_11()"
   ]
  },
  {
   "cell_type": "code",
   "execution_count": 62,
   "metadata": {},
   "outputs": [],
   "source": [
    "# Which country has the smallest income per person in 2018?\n",
    "def exercise_12():\n",
    "    result = df_income.iloc[df_income['2018'].idxmin(),0]\n",
    "    return result"
   ]
  },
  {
   "cell_type": "code",
   "execution_count": 63,
   "metadata": {},
   "outputs": [
    {
     "data": {
      "text/plain": [
       "'Somalia'"
      ]
     },
     "execution_count": 63,
     "metadata": {},
     "output_type": "execute_result"
    }
   ],
   "source": [
    "# run and check\n",
    "exercise_12()"
   ]
  },
  {
   "cell_type": "code",
   "execution_count": 64,
   "metadata": {},
   "outputs": [],
   "source": [
    "# In 2018, above which income per person threshold a country is in the last decile (°)?\n",
    "def exercise_13():\n",
    "    result = pd.qcut(df_income['2018'],10, retbins=True)\n",
    "    return result[1][9]"
   ]
  },
  {
   "cell_type": "code",
   "execution_count": 65,
   "metadata": {},
   "outputs": [
    {
     "data": {
      "text/plain": [
       "44540.0"
      ]
     },
     "execution_count": 65,
     "metadata": {},
     "output_type": "execute_result"
    }
   ],
   "source": [
    "# run and check\n",
    "exercise_13()"
   ]
  },
  {
   "cell_type": "code",
   "execution_count": 66,
   "metadata": {},
   "outputs": [],
   "source": [
    "# Which region has the largest total population in 2018?\n",
    "def exercise_14():\n",
    "    pop_regions = df_population.loc[:, ['2018']].join(df_country)\n",
    "\n",
    "    pop_grouped = pop_regions.groupby('region').sum()\n",
    "    result = pop_grouped['2018'].idxmax()\n",
    "    return result"
   ]
  },
  {
   "cell_type": "code",
   "execution_count": 67,
   "metadata": {},
   "outputs": [
    {
     "data": {
      "text/plain": [
       "'Africa'"
      ]
     },
     "execution_count": 67,
     "metadata": {},
     "output_type": "execute_result"
    }
   ],
   "source": [
    "# run and check\n",
    "exercise_14()"
   ]
  },
  {
   "cell_type": "code",
   "execution_count": 68,
   "metadata": {},
   "outputs": [],
   "source": [
    "# Which region has the smallest total population in 2018?\n",
    "def exercise_15():\n",
    "    pop_regions = df_population.loc[:, ['2018']].join(df_country)\n",
    "\n",
    "    pop_grouped = pop_regions.groupby('region').sum()\n",
    "    result = pop_grouped['2018'].idxmin()\n",
    "    return result\n",
    "   "
   ]
  },
  {
   "cell_type": "code",
   "execution_count": 69,
   "metadata": {},
   "outputs": [
    {
     "data": {
      "text/plain": [
       "'Europe'"
      ]
     },
     "execution_count": 69,
     "metadata": {},
     "output_type": "execute_result"
    }
   ],
   "source": [
    "# run and check\n",
    "exercise_15()"
   ]
  },
  {
   "cell_type": "code",
   "execution_count": 70,
   "metadata": {},
   "outputs": [],
   "source": [
    "# What is the weighted average life expectancy in 2018 (°)?\n",
    "def exercise_16():\n",
    "    life = df_life.loc[:, ['geo', '2018']].set_index('geo')\n",
    "    life.rename(columns={'2018': 'life'}, inplace = True)\n",
    "    pop = df_population.loc[:, ['geo', '2018']].set_index('geo')\n",
    "    pop.rename(columns={'2018': 'pop'}, inplace = True)\n",
    "    \n",
    "    life_pop = life.join(pop)\n",
    "    life_pop['sumprod'] = life_pop['life']*life_pop['pop']\n",
    "    \n",
    "    result = life_pop['sumprod'].sum()/life_pop['pop'].sum()\n",
    "    return round(result, 1)"
   ]
  },
  {
   "cell_type": "code",
   "execution_count": 71,
   "metadata": {},
   "outputs": [
    {
     "data": {
      "text/plain": [
       "73.1"
      ]
     },
     "execution_count": 71,
     "metadata": {},
     "output_type": "execute_result"
    }
   ],
   "source": [
    "# run and check\n",
    "exercise_16()"
   ]
  },
  {
   "cell_type": "code",
   "execution_count": 132,
   "metadata": {},
   "outputs": [],
   "source": [
    "# What is the largest weighted average life expectancy by region in 2018 (°)?\n",
    "def exercise_17():\n",
    "    life = df_life.loc[:, ['2018']]\n",
    "    life.rename(columns={'2018': 'life'}, inplace=True)\n",
    "    pop = df_population.loc[:, ['geo', '2018']].set_index('geo')\n",
    "    pop.rename(columns={'2018': 'pop'}, inplace=True)\n",
    "\n",
    "    life_pop = life.join(pop)\n",
    "    life_pop['sumprod'] = life_pop['life'] * life_pop['pop']\n",
    "\n",
    "    life_pop_region = life_pop.join(df_country.set_index('geo'))\n",
    "    grouped = life_pop_region.loc[:, ['sumprod', 'pop', 'region']].groupby('region').sum()\n",
    "    grouped['sumprod_by_pop'] = grouped['sumprod'] / grouped['pop']\n",
    "\n",
    "    result = grouped['sumprod_by_pop'].max()\n",
    "    return round(result, 1)"
   ]
  },
  {
   "cell_type": "code",
   "execution_count": 133,
   "metadata": {},
   "outputs": [
    {
     "data": {
      "text/plain": [
       "78.4"
      ]
     },
     "execution_count": 133,
     "metadata": {},
     "output_type": "execute_result"
    }
   ],
   "source": [
    "# run and check\n",
    "exercise_17()"
   ]
  },
  {
   "cell_type": "code",
   "execution_count": 134,
   "metadata": {},
   "outputs": [],
   "source": [
    "# What is the smallest weighted average life expectancy by region in 2018 (°)?\n",
    "def exercise_18():\n",
    "    life = df_life.loc[:, ['2018']]\n",
    "    life.rename(columns={'2018': 'life'}, inplace=True)\n",
    "    pop = df_population.loc[:, ['geo', '2018']].set_index('geo')\n",
    "    pop.rename(columns={'2018': 'pop'}, inplace=True)\n",
    "\n",
    "    life_pop = life.join(pop)\n",
    "    life_pop['sumprod'] = life_pop['life'] * life_pop['pop']\n",
    "\n",
    "    life_pop_region = life_pop.join(df_country.set_index('geo'))\n",
    "    grouped = life_pop_region.loc[:, ['sumprod', 'pop', 'region']].groupby('region').sum()\n",
    "    grouped['sumprod_by_pop'] = grouped['sumprod'] / grouped['pop']\n",
    "\n",
    "    result = grouped['sumprod_by_pop'].min()\n",
    "    return round(result, 1)"
   ]
  },
  {
   "cell_type": "code",
   "execution_count": 135,
   "metadata": {},
   "outputs": [
    {
     "data": {
      "text/plain": [
       "65.9"
      ]
     },
     "execution_count": 135,
     "metadata": {},
     "output_type": "execute_result"
    }
   ],
   "source": [
    "# run and check\n",
    "exercise_18()"
   ]
  },
  {
   "cell_type": "code",
   "execution_count": 76,
   "metadata": {},
   "outputs": [],
   "source": [
    "# What is the weighted average income per person in 2018 (°)?\n",
    "def exercise_19():\n",
    "    income = df_income.loc[:, ['geo', '2018']].set_index('geo')\n",
    "    income.rename(columns={'2018': 'income'}, inplace = True)\n",
    "    pop = df_population.loc[:, ['geo', '2018']].set_index('geo')\n",
    "    pop.rename(columns={'2018': 'pop'}, inplace = True)\n",
    "    \n",
    "    income_pop = income.join(pop)\n",
    "    income_pop['sumprod'] = income_pop['income']*income_pop['pop']\n",
    "    \n",
    "    result = income_pop['sumprod'].sum()/income_pop['pop'].sum()\n",
    "\n",
    "    return round(result, 1)"
   ]
  },
  {
   "cell_type": "code",
   "execution_count": 77,
   "metadata": {},
   "outputs": [
    {
     "data": {
      "text/plain": [
       "15570.0"
      ]
     },
     "execution_count": 77,
     "metadata": {},
     "output_type": "execute_result"
    }
   ],
   "source": [
    "# run and check\n",
    "exercise_19()"
   ]
  },
  {
   "cell_type": "code",
   "execution_count": 78,
   "metadata": {},
   "outputs": [],
   "source": [
    "# Which region has the largest weighted average income per person in 2018?\n",
    "def exercise_20():\n",
    "    income = df_income.loc[:, ['geo', '2018']].set_index('geo')\n",
    "    income.rename(columns={'2018': 'income'}, inplace = True)\n",
    "    pop = df_population.loc[:, ['geo', '2018']].set_index('geo')\n",
    "    pop.rename(columns={'2018': 'pop'}, inplace = True)\n",
    "    \n",
    "    income_pop = income.join(pop)\n",
    "    income_pop['sumprod'] = income_pop['income']*income_pop['pop']\n",
    "    \n",
    "  \n",
    "    income_pop_region=income_pop.join(df_country.set_index('geo'))\n",
    "    \n",
    "    grouped = income_pop_region.loc[:, ['sumprod', 'region']].groupby('region').sum()\n",
    "    result = grouped['sumprod'].idxmax()\n",
    "    return result"
   ]
  },
  {
   "cell_type": "code",
   "execution_count": 79,
   "metadata": {},
   "outputs": [
    {
     "data": {
      "text/plain": [
       "'Asia'"
      ]
     },
     "execution_count": 79,
     "metadata": {},
     "output_type": "execute_result"
    }
   ],
   "source": [
    "# run and check\n",
    "exercise_20()"
   ]
  },
  {
   "cell_type": "code",
   "execution_count": 80,
   "metadata": {},
   "outputs": [],
   "source": [
    "# Which region has the smallest weighted average income per person in 2018?\n",
    "def exercise_21():\n",
    "    income = df_income.loc[:, ['geo', '2018']].set_index('geo')\n",
    "    income.rename(columns={'2018': 'income'}, inplace = True)\n",
    "    pop = df_population.loc[:, ['geo', '2018']].set_index('geo')\n",
    "    pop.rename(columns={'2018': 'pop'}, inplace = True)\n",
    "    \n",
    "    income_pop = income.join(pop)\n",
    "    income_pop['sumprod'] = income_pop['income']*income_pop['pop']\n",
    "    \n",
    "  \n",
    "    income_pop_region=income_pop.join(df_country.set_index('geo'))\n",
    "    \n",
    "    grouped = income_pop_region.loc[:, ['sumprod', 'region']].groupby('region').sum()\n",
    "    result = grouped['sumprod'].idxmin()\n",
    "    return result"
   ]
  },
  {
   "cell_type": "code",
   "execution_count": 81,
   "metadata": {},
   "outputs": [
    {
     "data": {
      "text/plain": [
       "'Oceania'"
      ]
     },
     "execution_count": 81,
     "metadata": {},
     "output_type": "execute_result"
    }
   ],
   "source": [
    "# run and check\n",
    "exercise_21()"
   ]
  },
  {
   "cell_type": "code",
   "execution_count": 82,
   "metadata": {},
   "outputs": [],
   "source": [
    "# Which country has the smallest average life expectancy accross years?\n",
    "def exercise_22():\n",
    "    df_life['mean']=df_life.mean(axis=1)\n",
    "    df_life.set_index('geo',inplace=True)\n",
    "    result = df_life['mean'].idxmin()\n",
    "    return result"
   ]
  },
  {
   "cell_type": "code",
   "execution_count": 83,
   "metadata": {},
   "outputs": [
    {
     "data": {
      "text/plain": [
       "'Yemen'"
      ]
     },
     "execution_count": 83,
     "metadata": {},
     "output_type": "execute_result"
    }
   ],
   "source": [
    "# run and check\n",
    "exercise_22()"
   ]
  },
  {
   "cell_type": "code",
   "execution_count": 84,
   "metadata": {},
   "outputs": [],
   "source": [
    "# Which country has the smallest average income per person accross years?\n",
    "def exercise_23():\n",
    "    df_income['mean']=df_income.mean(axis=1)\n",
    "    df_income.set_index('geo',inplace=True)\n",
    "    result = df_income['mean'].idxmin()\n",
    "    return result"
   ]
  },
  {
   "cell_type": "code",
   "execution_count": 85,
   "metadata": {},
   "outputs": [
    {
     "data": {
      "text/plain": [
       "'Mozambique'"
      ]
     },
     "execution_count": 85,
     "metadata": {},
     "output_type": "execute_result"
    }
   ],
   "source": [
    "# run and check\n",
    "exercise_23()"
   ]
  },
  {
   "cell_type": "code",
   "execution_count": 146,
   "metadata": {},
   "outputs": [],
   "source": [
    "# Which country has the highest mean correlation of total population with other countries? \n",
    "def exercise_24():\n",
    "    corr = df_population.set_index('geo').T.corr()\n",
    "    corr['mean'] = corr.mean(axis=1)\n",
    "    result = corr['mean'].idxmax()\n",
    "    return result"
   ]
  },
  {
   "cell_type": "code",
   "execution_count": 147,
   "metadata": {},
   "outputs": [
    {
     "data": {
      "text/plain": [
       "'Haiti'"
      ]
     },
     "execution_count": 147,
     "metadata": {},
     "output_type": "execute_result"
    }
   ],
   "source": [
    "# run and check\n",
    "exercise_24()"
   ]
  },
  {
   "cell_type": "code",
   "execution_count": 150,
   "metadata": {},
   "outputs": [],
   "source": [
    "# Which country has the highest mean correlation of life expectancy with other countries? \n",
    "def exercise_25():\n",
    "    corr = df_life.T.corr()\n",
    "    corr['mean'] = corr.mean(axis=1)\n",
    "    result = corr['mean'].idxmax()\n",
    "    return result"
   ]
  },
  {
   "cell_type": "code",
   "execution_count": 151,
   "metadata": {},
   "outputs": [
    {
     "data": {
      "text/plain": [
       "'Thailand'"
      ]
     },
     "execution_count": 151,
     "metadata": {},
     "output_type": "execute_result"
    }
   ],
   "source": [
    "# run and check\n",
    "exercise_25()"
   ]
  },
  {
   "cell_type": "code",
   "execution_count": 140,
   "metadata": {},
   "outputs": [],
   "source": [
    "# Which country has the highest mean correlation of income per person with other countries? \n",
    "def exercise_26():\n",
    "    corr = df_income.T.corr()\n",
    "    result = corr['mean']=corr.mean(axis=1).idxmax()\n",
    "    return result"
   ]
  },
  {
   "cell_type": "code",
   "execution_count": 141,
   "metadata": {},
   "outputs": [
    {
     "data": {
      "text/plain": [
       "'Czech Republic'"
      ]
     },
     "execution_count": 141,
     "metadata": {},
     "output_type": "execute_result"
    }
   ],
   "source": [
    "# run and check\n",
    "exercise_26()"
   ]
  },
  {
   "cell_type": "code",
   "execution_count": 188,
   "metadata": {},
   "outputs": [],
   "source": [
    "# What is the length of the new DataFrame object for total population?\n",
    "def exercise_27():\n",
    "    result=len(df_population.melt(id_vars='geo'))\n",
    "    return result"
   ]
  },
  {
   "cell_type": "code",
   "execution_count": 189,
   "metadata": {},
   "outputs": [
    {
     "data": {
      "text/plain": [
       "42705"
      ]
     },
     "execution_count": 189,
     "metadata": {},
     "output_type": "execute_result"
    }
   ],
   "source": [
    "# run and check\n",
    "exercise_27()"
   ]
  },
  {
   "cell_type": "code",
   "execution_count": 192,
   "metadata": {},
   "outputs": [],
   "source": [
    "# What is the length of the new DataFrame object for life expectancy?\n",
    "def exercise_28():\n",
    "    result=len(df_life.reset_index().melt(id_vars='geo'))\n",
    "    return result"
   ]
  },
  {
   "cell_type": "code",
   "execution_count": 193,
   "metadata": {},
   "outputs": [
    {
     "data": {
      "text/plain": [
       "41140"
      ]
     },
     "execution_count": 193,
     "metadata": {},
     "output_type": "execute_result"
    }
   ],
   "source": [
    "# run and check\n",
    "exercise_28()"
   ]
  },
  {
   "cell_type": "code",
   "execution_count": 196,
   "metadata": {},
   "outputs": [],
   "source": [
    "# What is the length of the new DataFrame object for income per person?\n",
    "def exercise_29():\n",
    "    result=len(df_income.reset_index().melt(id_vars='geo'))\n",
    "    return result"
   ]
  },
  {
   "cell_type": "code",
   "execution_count": 197,
   "metadata": {},
   "outputs": [
    {
     "data": {
      "text/plain": [
       "42460"
      ]
     },
     "execution_count": 197,
     "metadata": {},
     "output_type": "execute_result"
    }
   ],
   "source": [
    "# run and check\n",
    "exercise_29()"
   ]
  },
  {
   "cell_type": "code",
   "execution_count": 210,
   "metadata": {},
   "outputs": [],
   "source": [
    "# What is the length of the DataFrame object merging total population, life expectancy and income per person in a long format?\n",
    "def exercise_30():\n",
    "    pop = df_population.melt(id_vars='geo', var_name='year', value_name='pop')\n",
    "    life = df_life.reset_index().melt(id_vars='geo', var_name='year', value_name='life')\n",
    "    income = df_income.reset_index().melt(id_vars='geo', var_name='year', value_name='income')\n",
    "    \n",
    "    pop_life = pd.merge(pop, life, on=['geo', 'year'])\n",
    "    pop_life_income = pd.merge(pop_life, income, on=['geo', 'year'])\n",
    "    \n",
    "    result= len(pop_life_income.dropna())\n",
    "    \n",
    "    return result"
   ]
  },
  {
   "cell_type": "code",
   "execution_count": 212,
   "metadata": {},
   "outputs": [
    {
     "data": {
      "text/plain": [
       "40437"
      ]
     },
     "execution_count": 212,
     "metadata": {},
     "output_type": "execute_result"
    }
   ],
   "source": [
    "# run and check\n",
    "exercise_30()"
   ]
  }
 ],
 "metadata": {
  "kernelspec": {
   "display_name": "Python 3",
   "language": "python",
   "name": "python3"
  },
  "language_info": {
   "codemirror_mode": {
    "name": "ipython",
    "version": 3
   },
   "file_extension": ".py",
   "mimetype": "text/x-python",
   "name": "python",
   "nbconvert_exporter": "python",
   "pygments_lexer": "ipython3",
   "version": "3.6.5"
  }
 },
 "nbformat": 4,
 "nbformat_minor": 2
}
