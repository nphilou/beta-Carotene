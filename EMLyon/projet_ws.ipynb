{
 "cells": [
  {
   "cell_type": "markdown",
   "metadata": {},
   "source": [
    "# Web Scraping"
   ]
  },
  {
   "cell_type": "markdown",
   "metadata": {},
   "source": [
    "## Importation des librairies"
   ]
  },
  {
   "cell_type": "code",
   "execution_count": null,
   "metadata": {
    "ExecuteTime": {
     "end_time": "2019-05-11T22:14:30.534415Z",
     "start_time": "2019-05-11T22:14:30.530409Z"
    }
   },
   "outputs": [],
   "source": [
    "# a mettre au propre une fois le projet fini, pour l'instant vide\n",
    "# vcar selon le besoin au moment venue:\n",
    "# voir si natif d'Anaconda sinon l'importer par la cmd"
   ]
  },
  {
   "cell_type": "markdown",
   "metadata": {},
   "source": [
    "## Creation d'une methode generale"
   ]
  },
  {
   "cell_type": "code",
   "execution_count": 1,
   "metadata": {
    "ExecuteTime": {
     "end_time": "2019-05-16T09:32:29.782518Z",
     "start_time": "2019-05-16T09:32:29.365334Z"
    }
   },
   "outputs": [],
   "source": [
    "from playhouse.sqlite_ext import SqliteExtDatabase\n",
    "\n",
    "# à importer par la cmd\n",
    "from peewee import *"
   ]
  },
  {
   "cell_type": "code",
   "execution_count": 2,
   "metadata": {
    "ExecuteTime": {
     "end_time": "2019-05-16T09:44:24.391621Z",
     "start_time": "2019-05-16T09:44:24.381616Z"
    }
   },
   "outputs": [],
   "source": [
    "# creation de la base sql\n",
    "db = SqliteExtDatabase('database.sqlite')"
   ]
  },
  {
   "cell_type": "code",
   "execution_count": 3,
   "metadata": {
    "ExecuteTime": {
     "end_time": "2019-05-16T09:44:27.918847Z",
     "start_time": "2019-05-16T09:44:27.910734Z"
    }
   },
   "outputs": [],
   "source": [
    "# creation de classe: nouveau type d'objet\n",
    "class Annonce(Model):\n",
    "    # id = \"pap-123456789\"\n",
    "    id = CharField(unique=True, primary_key=True)\n",
    "    # site = [pap, lbc, logic-immo, seloger]\n",
    "    site = CharField()\n",
    "    created = DateTimeField()\n",
    "    title = CharField()\n",
    "    description = TextField(null=True)\n",
    "    telephone = TextField(null=True)\n",
    "    price = FloatField()\n",
    "    charges = FloatField(null=True)\n",
    "    surface = FloatField()\n",
    "    rooms = IntegerField()\n",
    "    bedrooms = IntegerField(null=True)\n",
    "    city = CharField()\n",
    "    link = CharField()\n",
    "    picture = CharField(null=True)\n",
    "    posted2trello = BooleanField(default=False)\n",
    "\n",
    "    class Meta:\n",
    "        database = db\n",
    "        order_by = ('-created',)\n",
    "\n",
    "\n",
    "def create_tables():\n",
    "    with db:\n",
    "        db.create_tables([Annonce])"
   ]
  },
  {
   "cell_type": "markdown",
   "metadata": {
    "ExecuteTime": {
     "end_time": "2019-05-11T22:15:32.035979Z",
     "start_time": "2019-05-11T22:15:32.031986Z"
    }
   },
   "source": [
    "## Scrapping des différents sites: Seloger.com, LeBonCoin.fr, Biend'Ici"
   ]
  },
  {
   "cell_type": "markdown",
   "metadata": {},
   "source": [
    "### Scraping SeLoger.com"
   ]
  },
  {
   "cell_type": "code",
   "execution_count": 4,
   "metadata": {
    "ExecuteTime": {
     "end_time": "2019-05-16T10:09:00.378007Z",
     "start_time": "2019-05-16T10:08:59.984332Z"
    }
   },
   "outputs": [],
   "source": [
    "import requests\n",
    "\n",
    "import xml.etree.ElementTree as ET\n",
    "\n",
    "from datetime import datetime"
   ]
  },
  {
   "cell_type": "code",
   "execution_count": 8,
   "metadata": {
    "ExecuteTime": {
     "end_time": "2019-05-17T13:31:05.704218Z",
     "start_time": "2019-05-17T13:31:05.689246Z"
    }
   },
   "outputs": [],
   "source": [
    "#module qui récupère les annonces de SeLoger.com\n",
    "\n",
    "def search(parameters):\n",
    "    # Préparation des paramètres de la requête\n",
    "    payload = {\n",
    "        'px_loyermin': parameters['price'][0],\n",
    "        'px_loyermax': parameters['price'][1],\n",
    "        'surfacemin': parameters['surface'][0],\n",
    "        'surfacemax': parameters['surface'][1],\n",
    "        # Si parameters['rooms'] = (2, 4) => \"2,3,4\"\n",
    "        'nbpieces': list(range(parameters['rooms'][0], parameters['rooms'][1] + 1)),\n",
    "        # Si parameters['bedrooms'] = (2, 4) => \"2,3,4\"\n",
    "        'nb_chambres': list(range(parameters['bedrooms'][0], parameters['bedrooms'][1] + 1)),\n",
    "        'ci': [int(cp[2]) for cp in parameters['cities']]\n",
    "    }\n",
    "    \n",
    "     # Insertion des paramètres propres à LeBonCoin\n",
    "    payload.update(parameters['seloger'])\n",
    "\n",
    "    headers = {'user-agent': 'Mozilla/5.0 (Windows NT 10.0; Win64; x64) AppleWebKit/537.36 (KHTML, like Gecko) Chrome/64.0.3282.167 Safari/537.36'}\n",
    "\n",
    "    request = requests.get(\"https://www.seloger.com/list.htm?types=1&projects=2,5&enterprise=0&natures=1,2,4&places=[{ci:750056}]&qsVersion=1.0\", params=payload, headers=headers)\n",
    "    \n",
    "    xml_root = ET.fromstring(request.text)\n",
    "    \n",
    "    for annonceNode in xml_root.findall('annonces/annonce'):\n",
    "        # Seconde requête pour obtenir la description de l'annonce\n",
    "        _payload = {'noAudiotel': 1, 'idAnnonce': annonceNode.findtext('idAnnonce')}\n",
    "        _request = requests.get(\"http://ws.seloger.com/annonceDetail_4.0.xml\", params=_payload, headers=headers)\n",
    "        \n",
    "        photos = list()\n",
    "        for photo in annonceNode.find(\"photos\"):\n",
    "            photos.append(photo.findtext(\"stdUrl\"))\n",
    "\n",
    "        annonce, created = Annonce.create_or_get(\n",
    "            id='seloger-' + annonceNode.find('idAnnonce').text,\n",
    "            site='SeLoger',\n",
    "            # SeLoger peut ne pas fournir de titre pour une annonce T_T\n",
    "            title=\"Appartement \" + annonceNode.findtext('nbPiece') + \" pièces\" if annonceNode.findtext('titre') is None else annonceNode.findtext('titre'),\n",
    "            description=ET.fromstring(_request.text).findtext(\"descriptif\"),\n",
    "            telephone=ET.fromstring(_request.text).findtext(\"contact/telephone\"),\n",
    "            created=datetime.strptime(annonceNode.findtext('dtCreation'), '%Y-%m-%dT%H:%M:%S'),\n",
    "            price=annonceNode.find('prix').text,\n",
    "            charges=annonceNode.find('charges').text,\n",
    "            surface=annonceNode.find('surface').text,\n",
    "            rooms=annonceNode.find('nbPiece').text,\n",
    "            bedrooms=annonceNode.find('nbChambre').text,\n",
    "            city=annonceNode.findtext('ville'),\n",
    "            link=annonceNode.findtext('permaLien'),\n",
    "            picture=photos\n",
    "        )\n",
    "\n",
    "        if created:\n",
    "            annonce.save() "
   ]
  },
  {
   "cell_type": "markdown",
   "metadata": {},
   "source": [
    "### Scraping LeBonCoin.fr"
   ]
  },
  {
   "cell_type": "code",
   "execution_count": 10,
   "metadata": {
    "ExecuteTime": {
     "end_time": "2019-05-16T10:19:39.926243Z",
     "start_time": "2019-05-16T10:19:39.920913Z"
    }
   },
   "outputs": [],
   "source": [
    "# Virginie"
   ]
  },
  {
   "cell_type": "markdown",
   "metadata": {},
   "source": [
    "### Scraping BienDici.com"
   ]
  },
  {
   "cell_type": "code",
   "execution_count": 11,
   "metadata": {
    "ExecuteTime": {
     "end_time": "2019-05-16T10:20:51.587596Z",
     "start_time": "2019-05-16T10:20:51.583557Z"
    }
   },
   "outputs": [],
   "source": [
    "# Virginie et moi à faire"
   ]
  },
  {
   "cell_type": "markdown",
   "metadata": {},
   "source": [
    "## Programme principal: pour l'instant fait que sur seloger"
   ]
  },
  {
   "cell_type": "code",
   "execution_count": 12,
   "metadata": {
    "ExecuteTime": {
     "end_time": "2019-05-16T10:26:26.247101Z",
     "start_time": "2019-05-16T10:26:26.242183Z"
    }
   },
   "outputs": [],
   "source": [
    "import os\n",
    "import sys\n",
    "import json"
   ]
  },
  {
   "cell_type": "code",
   "execution_count": 10,
   "metadata": {
    "ExecuteTime": {
     "end_time": "2019-05-17T13:31:25.637188Z",
     "start_time": "2019-05-17T13:31:25.633187Z"
    }
   },
   "outputs": [],
   "source": [
    "import logging"
   ]
  },
  {
   "cell_type": "code",
   "execution_count": 23,
   "metadata": {
    "ExecuteTime": {
     "end_time": "2019-05-16T11:09:36.848489Z",
     "start_time": "2019-05-16T11:09:36.840623Z"
    }
   },
   "outputs": [],
   "source": [
    "logging.basicConfig(level=logging.INFO)"
   ]
  },
  {
   "cell_type": "code",
   "execution_count": 24,
   "metadata": {
    "ExecuteTime": {
     "end_time": "2019-05-16T11:33:31.218216Z",
     "start_time": "2019-05-16T11:33:31.207011Z"
    }
   },
   "outputs": [],
   "source": [
    "os.chdir(os.path.dirname(sys.argv[0]))"
   ]
  },
  {
   "cell_type": "code",
   "execution_count": 27,
   "metadata": {
    "ExecuteTime": {
     "end_time": "2019-05-16T15:54:53.001109Z",
     "start_time": "2019-05-16T15:54:52.830920Z"
    }
   },
   "outputs": [],
   "source": [
    "create_tables()"
   ]
  },
  {
   "cell_type": "code",
   "execution_count": 29,
   "metadata": {
    "ExecuteTime": {
     "end_time": "2019-05-16T15:59:13.931822Z",
     "start_time": "2019-05-16T15:59:13.926835Z"
    }
   },
   "outputs": [
    {
     "name": "stdout",
     "output_type": "stream",
     "text": [
      "<playhouse.sqlite_ext.SqliteExtDatabase object at 0x0000024D8E9B7CF8>\n"
     ]
    }
   ],
   "source": [
    "print(db)"
   ]
  },
  {
   "cell_type": "code",
   "execution_count": 1,
   "metadata": {
    "ExecuteTime": {
     "end_time": "2019-05-17T13:26:14.961461Z",
     "start_time": "2019-05-17T13:26:14.944507Z"
    }
   },
   "outputs": [],
   "source": [
    "# Chargement des paramètres de recherche depuis le fichier JSON\n",
    "with open(\"C:/Users/asial/projet_ws/parameters.json\", encoding='utf-8') as parameters_data:\n",
    "    parameters = json.load(parameters_data)"
   ]
  },
  {
   "cell_type": "code",
   "execution_count": 11,
   "metadata": {
    "ExecuteTime": {
     "end_time": "2019-05-17T13:31:29.812703Z",
     "start_time": "2019-05-17T13:31:29.796746Z"
    }
   },
   "outputs": [
    {
     "ename": "ValueError",
     "evalue": "invalid literal for int() with base 10: 'n'",
     "output_type": "error",
     "traceback": [
      "\u001b[1;31m---------------------------------------------------------------------------\u001b[0m",
      "\u001b[1;31mValueError\u001b[0m                                Traceback (most recent call last)",
      "\u001b[1;32m<ipython-input-11-5db14daf9bea>\u001b[0m in \u001b[0;36m<module>\u001b[1;34m\u001b[0m\n\u001b[0;32m      2\u001b[0m \u001b[1;32mif\u001b[0m \u001b[1;34m\"seloger\"\u001b[0m \u001b[1;32min\u001b[0m \u001b[0mparameters\u001b[0m\u001b[1;33m[\u001b[0m\u001b[1;34m'ad-providers'\u001b[0m\u001b[1;33m]\u001b[0m\u001b[1;33m:\u001b[0m\u001b[1;33m\u001b[0m\u001b[1;33m\u001b[0m\u001b[0m\n\u001b[0;32m      3\u001b[0m     \u001b[0mlogging\u001b[0m\u001b[1;33m.\u001b[0m\u001b[0minfo\u001b[0m\u001b[1;33m(\u001b[0m\u001b[1;34m\"Retrieving from seloger\"\u001b[0m\u001b[1;33m)\u001b[0m\u001b[1;33m\u001b[0m\u001b[1;33m\u001b[0m\u001b[0m\n\u001b[1;32m----> 4\u001b[1;33m     \u001b[0msearch\u001b[0m\u001b[1;33m(\u001b[0m\u001b[0mparameters\u001b[0m\u001b[1;33m)\u001b[0m\u001b[1;33m\u001b[0m\u001b[1;33m\u001b[0m\u001b[0m\n\u001b[0m",
      "\u001b[1;32m<ipython-input-8-aa45e19d76dc>\u001b[0m in \u001b[0;36msearch\u001b[1;34m(parameters)\u001b[0m\n\u001b[0;32m     12\u001b[0m         \u001b[1;31m# Si parameters['bedrooms'] = (2, 4) => \"2,3,4\"\u001b[0m\u001b[1;33m\u001b[0m\u001b[1;33m\u001b[0m\u001b[1;33m\u001b[0m\u001b[0m\n\u001b[0;32m     13\u001b[0m         \u001b[1;34m'nb_chambres'\u001b[0m\u001b[1;33m:\u001b[0m \u001b[0mlist\u001b[0m\u001b[1;33m(\u001b[0m\u001b[0mrange\u001b[0m\u001b[1;33m(\u001b[0m\u001b[0mparameters\u001b[0m\u001b[1;33m[\u001b[0m\u001b[1;34m'bedrooms'\u001b[0m\u001b[1;33m]\u001b[0m\u001b[1;33m[\u001b[0m\u001b[1;36m0\u001b[0m\u001b[1;33m]\u001b[0m\u001b[1;33m,\u001b[0m \u001b[0mparameters\u001b[0m\u001b[1;33m[\u001b[0m\u001b[1;34m'bedrooms'\u001b[0m\u001b[1;33m]\u001b[0m\u001b[1;33m[\u001b[0m\u001b[1;36m1\u001b[0m\u001b[1;33m]\u001b[0m \u001b[1;33m+\u001b[0m \u001b[1;36m1\u001b[0m\u001b[1;33m)\u001b[0m\u001b[1;33m)\u001b[0m\u001b[1;33m,\u001b[0m\u001b[1;33m\u001b[0m\u001b[1;33m\u001b[0m\u001b[0m\n\u001b[1;32m---> 14\u001b[1;33m         \u001b[1;34m'ci'\u001b[0m\u001b[1;33m:\u001b[0m \u001b[1;33m[\u001b[0m\u001b[0mint\u001b[0m\u001b[1;33m(\u001b[0m\u001b[0mcp\u001b[0m\u001b[1;33m[\u001b[0m\u001b[1;36m2\u001b[0m\u001b[1;33m]\u001b[0m\u001b[1;33m)\u001b[0m \u001b[1;32mfor\u001b[0m \u001b[0mcp\u001b[0m \u001b[1;32min\u001b[0m \u001b[0mparameters\u001b[0m\u001b[1;33m[\u001b[0m\u001b[1;34m'cities'\u001b[0m\u001b[1;33m]\u001b[0m\u001b[1;33m]\u001b[0m\u001b[1;33m\u001b[0m\u001b[1;33m\u001b[0m\u001b[0m\n\u001b[0m\u001b[0;32m     15\u001b[0m     }\n\u001b[0;32m     16\u001b[0m \u001b[1;33m\u001b[0m\u001b[0m\n",
      "\u001b[1;32m<ipython-input-8-aa45e19d76dc>\u001b[0m in \u001b[0;36m<listcomp>\u001b[1;34m(.0)\u001b[0m\n\u001b[0;32m     12\u001b[0m         \u001b[1;31m# Si parameters['bedrooms'] = (2, 4) => \"2,3,4\"\u001b[0m\u001b[1;33m\u001b[0m\u001b[1;33m\u001b[0m\u001b[1;33m\u001b[0m\u001b[0m\n\u001b[0;32m     13\u001b[0m         \u001b[1;34m'nb_chambres'\u001b[0m\u001b[1;33m:\u001b[0m \u001b[0mlist\u001b[0m\u001b[1;33m(\u001b[0m\u001b[0mrange\u001b[0m\u001b[1;33m(\u001b[0m\u001b[0mparameters\u001b[0m\u001b[1;33m[\u001b[0m\u001b[1;34m'bedrooms'\u001b[0m\u001b[1;33m]\u001b[0m\u001b[1;33m[\u001b[0m\u001b[1;36m0\u001b[0m\u001b[1;33m]\u001b[0m\u001b[1;33m,\u001b[0m \u001b[0mparameters\u001b[0m\u001b[1;33m[\u001b[0m\u001b[1;34m'bedrooms'\u001b[0m\u001b[1;33m]\u001b[0m\u001b[1;33m[\u001b[0m\u001b[1;36m1\u001b[0m\u001b[1;33m]\u001b[0m \u001b[1;33m+\u001b[0m \u001b[1;36m1\u001b[0m\u001b[1;33m)\u001b[0m\u001b[1;33m)\u001b[0m\u001b[1;33m,\u001b[0m\u001b[1;33m\u001b[0m\u001b[1;33m\u001b[0m\u001b[0m\n\u001b[1;32m---> 14\u001b[1;33m         \u001b[1;34m'ci'\u001b[0m\u001b[1;33m:\u001b[0m \u001b[1;33m[\u001b[0m\u001b[0mint\u001b[0m\u001b[1;33m(\u001b[0m\u001b[0mcp\u001b[0m\u001b[1;33m[\u001b[0m\u001b[1;36m2\u001b[0m\u001b[1;33m]\u001b[0m\u001b[1;33m)\u001b[0m \u001b[1;32mfor\u001b[0m \u001b[0mcp\u001b[0m \u001b[1;32min\u001b[0m \u001b[0mparameters\u001b[0m\u001b[1;33m[\u001b[0m\u001b[1;34m'cities'\u001b[0m\u001b[1;33m]\u001b[0m\u001b[1;33m]\u001b[0m\u001b[1;33m\u001b[0m\u001b[1;33m\u001b[0m\u001b[0m\n\u001b[0m\u001b[0;32m     15\u001b[0m     }\n\u001b[0;32m     16\u001b[0m \u001b[1;33m\u001b[0m\u001b[0m\n",
      "\u001b[1;31mValueError\u001b[0m: invalid literal for int() with base 10: 'n'"
     ]
    }
   ],
   "source": [
    "# Recherche et insertion en base\n",
    "if \"seloger\" in parameters['ad-providers']:\n",
    "    logging.info(\"Retrieving from seloger\")\n",
    "    search(parameters)"
   ]
  },
  {
   "cell_type": "code",
   "execution_count": 2,
   "metadata": {
    "ExecuteTime": {
     "end_time": "2019-05-17T13:26:28.542239Z",
     "start_time": "2019-05-17T13:26:28.538220Z"
    }
   },
   "outputs": [],
   "source": [
    "test=parameters.get('cities')"
   ]
  },
  {
   "cell_type": "code",
   "execution_count": 3,
   "metadata": {
    "ExecuteTime": {
     "end_time": "2019-05-17T13:26:32.097875Z",
     "start_time": "2019-05-17T13:26:32.092887Z"
    }
   },
   "outputs": [
    {
     "name": "stdout",
     "output_type": "stream",
     "text": [
      "['Nanterre', 92000, 920050]\n"
     ]
    }
   ],
   "source": [
    "print(test)"
   ]
  },
  {
   "cell_type": "code",
   "execution_count": 4,
   "metadata": {
    "ExecuteTime": {
     "end_time": "2019-05-17T13:26:35.285376Z",
     "start_time": "2019-05-17T13:26:35.264405Z"
    }
   },
   "outputs": [
    {
     "data": {
      "text/plain": [
       "int"
      ]
     },
     "execution_count": 4,
     "metadata": {},
     "output_type": "execute_result"
    }
   ],
   "source": [
    "type(test[1])"
   ]
  },
  {
   "cell_type": "code",
   "execution_count": 5,
   "metadata": {
    "ExecuteTime": {
     "end_time": "2019-05-17T13:26:39.530274Z",
     "start_time": "2019-05-17T13:26:39.525287Z"
    }
   },
   "outputs": [
    {
     "name": "stdout",
     "output_type": "stream",
     "text": [
      "Nanterre\n",
      "92000\n",
      "920050\n"
     ]
    }
   ],
   "source": [
    "for cp in parameters['cities']:\n",
    "    print(cp)"
   ]
  },
  {
   "cell_type": "code",
   "execution_count": 6,
   "metadata": {
    "ExecuteTime": {
     "end_time": "2019-05-17T13:27:00.176624Z",
     "start_time": "2019-05-17T13:27:00.172636Z"
    }
   },
   "outputs": [
    {
     "name": "stdout",
     "output_type": "stream",
     "text": [
      "92000\n"
     ]
    }
   ],
   "source": [
    "print(test[1])"
   ]
  },
  {
   "cell_type": "markdown",
   "metadata": {},
   "source": [
    "Pourquoi dans la fonction search 'ci' récupère les éléments de Nanterre et non de la liste [] donc 92000 ??? T_T"
   ]
  }
 ],
 "metadata": {
  "kernelspec": {
   "display_name": "Python 3",
   "language": "python",
   "name": "python3"
  },
  "language_info": {
   "codemirror_mode": {
    "name": "ipython",
    "version": 3
   },
   "file_extension": ".py",
   "mimetype": "text/x-python",
   "name": "python",
   "nbconvert_exporter": "python",
   "pygments_lexer": "ipython3",
   "version": "3.6.4"
  },
  "toc": {
   "base_numbering": 1,
   "nav_menu": {},
   "number_sections": true,
   "sideBar": true,
   "skip_h1_title": false,
   "title_cell": "Table of Contents",
   "title_sidebar": "Contents",
   "toc_cell": false,
   "toc_position": {},
   "toc_section_display": true,
   "toc_window_display": false
  },
  "varInspector": {
   "cols": {
    "lenName": 16,
    "lenType": 16,
    "lenVar": 40
   },
   "kernels_config": {
    "python": {
     "delete_cmd_postfix": "",
     "delete_cmd_prefix": "del ",
     "library": "var_list.py",
     "varRefreshCmd": "print(var_dic_list())"
    },
    "r": {
     "delete_cmd_postfix": ") ",
     "delete_cmd_prefix": "rm(",
     "library": "var_list.r",
     "varRefreshCmd": "cat(var_dic_list()) "
    }
   },
   "oldHeight": 315.416222,
   "position": {
    "height": "40px",
    "left": "985.667px",
    "right": "20px",
    "top": "108px",
    "width": "663.181px"
   },
   "types_to_exclude": [
    "module",
    "function",
    "builtin_function_or_method",
    "instance",
    "_Feature"
   ],
   "varInspector_section_display": "none",
   "window_display": true
  }
 },
 "nbformat": 4,
 "nbformat_minor": 2
}
