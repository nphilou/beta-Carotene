{
 "cells": [
  {
   "cell_type": "markdown",
   "metadata": {},
   "source": [
    "# Assignment \\#6 the Sentiment140 dataset\n",
    "\n",
    "The sentiment140 dataset contains 1,600,000 tweets extracted using the twitter api from April to June 2009. The tweets have been annotated (0 = negative, 4 = positive) and they can be used to detect sentiment.\n",
    "\n",
    "Source: kaggle.com"
   ]
  },
  {
   "cell_type": "markdown",
   "metadata": {},
   "source": [
    "As the file is quite large (230MB), we use a subset of this dataset, where we selected only tweets containing the strings (not only isolated words) `\"good\"` or `\"bad\"`. The subset for this assignment contains 103,259 tweets:\n",
    "\n",
    "- date: datetime of the tweet in the format: year-month-day hours:minutes:seconds\n",
    "- score: polarity of the tweet: 0=negative and 4=positive\n",
    "- user: user who produced the tweet\n",
    "- text: text of the tweet"
   ]
  },
  {
   "cell_type": "markdown",
   "metadata": {},
   "source": [
    "**Caution**: Questions asking to return a floating point number (ratio, mean, percentage) should round it to 1 decimal place:\n",
    "- Such questions are marked with `(°)`\n",
    "- For instance, if the variable `result` is a floating point number, e.g. `3.14159265359`\n",
    "- The functions should return `round(result, 1)` instead of `result`, e.g. `3.1`\n",
    "- Sommetimes, rounding a floating point number to 1 decimal place leads to a strange number such as `3.100000001`. This is a common outcome with floating point numbers representation and will not affect the grade.\n",
    "- Percentages should be returned as floating point numbers (not with the % mark)."
   ]
  },
  {
   "cell_type": "markdown",
   "metadata": {},
   "source": [
    "#### Questions\n",
    "\n",
    "**A. In this part, we explore the time series aspect of the dataset**\n",
    "\n",
    "1) Pick up the first datetime of the dataset and produce a string in the exact format `day/month/year`, example `\"25/12/2019\"`, using the `strftime()` method.\n",
    "\n",
    "2) Pick up the last datetime of the dataset and produce a string in the exact format `month day, year`, example `\"Dec 25, 2019\"`, using the `strftime()` method.\n",
    "\n",
    "3) How many days with at least one tweet do we have?\n",
    "\n",
    "4) What is the maximum number of tweets in a day?\n",
    "\n",
    "5) What is the minimum number of tweets in a day with at least one tweet?\n",
    "\n",
    "6) What is the average number of tweets in a day with at least one tweet (°)?\n",
    "\n",
    "7) If we consider only the hours of the day (0 to 23) where the tweets have been produced, at what hour do we have the minimum number of tweets?\n",
    "\n",
    "8) If we consider only the hours of the day (0 to 23) where the tweets have been produced, at what hour do we have the maximum number of tweets?\n",
    "\n",
    "9) Who is the most active user in the dataset?\n",
    "\n",
    "10) What is the average number of tweets in a day produced by the most active user (°)?\n",
    "\n",
    "\n",
    "(°) Result of functions should be rounded to 1 decimal place."
   ]
  },
  {
   "cell_type": "markdown",
   "metadata": {},
   "source": [
    "**B. In this part, we explore the textual aspect of the dataset**\n",
    "\n",
    "11) What is the mean score of all tweets (°)?\n",
    "\n",
    "12) What is the mean score of tweets containing the string `\"good\"` (°)?\n",
    "\n",
    "13) What is the mean score of tweets containing the string `\"bad\"` (°)?\n",
    "\n",
    "14) What is the mean score of tweets issued by the most active user found in question 9 (°)?\n",
    "\n",
    "15) Which text is the most frequent one in all tweets?\n",
    "\n",
    "16) How many different users issued the most frequent tweet?\n",
    "\n",
    "17) What is the mean score of all tweets issued by those users (°)?\n",
    "\n",
    "18) In tweets, users are quoted with a string starting with an `@` and then containing possibly uppercase and lowercase letters, digits and underscore `_`. Which user is the most quoted one (the result should be a string starting with an `@`)?\n",
    "\n",
    "19) How many different users issued at least a tweet quoting the most quoted user?\n",
    "\n",
    "20) What is the mean score of tweets quoting the most quoted user (°)?\n",
    "\n",
    "(°) Result of functions should be rounded to 1 decimal place."
   ]
  },
  {
   "cell_type": "markdown",
   "metadata": {},
   "source": [
    "**Important import**\n",
    "\n",
    "The cell below imports only the `pandas` module.\n",
    "\n",
    "To achieve this assignment, you will need to import other modules. In order to avoid runtime errors when grading please import below the supplementary modules that you need.\n",
    "\n",
    "Do not import the `locale` module. All written ouputs are supposed to be in English."
   ]
  },
  {
   "cell_type": "code",
   "execution_count": null,
   "metadata": {},
   "outputs": [],
   "source": [
    "# import\n",
    "import pandas as pd\n",
    "\n",
    "# Import here the supplementary modules that you need\n",
    "# import"
   ]
  },
  {
   "cell_type": "code",
   "execution_count": null,
   "metadata": {},
   "outputs": [],
   "source": [
    "# loading the data\n",
    "# the dates are parsed!\n",
    "df = pd.read_csv('sample1600000.csv', parse_dates=['date'])\n",
    "df.head()"
   ]
  },
  {
   "cell_type": "code",
   "execution_count": null,
   "metadata": {},
   "outputs": [],
   "source": [
    "# Pick up the first datetime of the dataset and produce a string in the exact format \"25/12/2019\"\n",
    "def exercise_01():\n",
    "    result = None\n",
    "    return result"
   ]
  },
  {
   "cell_type": "code",
   "execution_count": null,
   "metadata": {},
   "outputs": [],
   "source": [
    "# run and check\n",
    "exercise_01()"
   ]
  },
  {
   "cell_type": "code",
   "execution_count": null,
   "metadata": {},
   "outputs": [],
   "source": [
    "# Pick up the last datetime of the dataset and produce a string in the exact format \"Dec 25, 2019\"\n",
    "def exercise_02():\n",
    "    result = None\n",
    "    return result"
   ]
  },
  {
   "cell_type": "code",
   "execution_count": null,
   "metadata": {},
   "outputs": [],
   "source": [
    "# run and check\n",
    "exercise_02()"
   ]
  },
  {
   "cell_type": "code",
   "execution_count": null,
   "metadata": {},
   "outputs": [],
   "source": [
    "# How many days with at least one tweet do we have?\n",
    "def exercise_03():\n",
    "    result = None\n",
    "    return result"
   ]
  },
  {
   "cell_type": "code",
   "execution_count": null,
   "metadata": {},
   "outputs": [],
   "source": [
    "# run and check\n",
    "exercise_03()"
   ]
  },
  {
   "cell_type": "code",
   "execution_count": null,
   "metadata": {},
   "outputs": [],
   "source": [
    "# What is the maximum number of tweets in a day?\n",
    "def exercise_04():\n",
    "    result = None\n",
    "    return result"
   ]
  },
  {
   "cell_type": "code",
   "execution_count": null,
   "metadata": {},
   "outputs": [],
   "source": [
    "# run and check\n",
    "exercise_04()"
   ]
  },
  {
   "cell_type": "code",
   "execution_count": null,
   "metadata": {},
   "outputs": [],
   "source": [
    "# What is the minimum number of tweets in a day with at least one tweet?\n",
    "def exercise_05():\n",
    "    result = None\n",
    "    return result"
   ]
  },
  {
   "cell_type": "code",
   "execution_count": null,
   "metadata": {},
   "outputs": [],
   "source": [
    "# run and check\n",
    "exercise_05()"
   ]
  },
  {
   "cell_type": "code",
   "execution_count": null,
   "metadata": {},
   "outputs": [],
   "source": [
    "# What is the average number of tweets in a day with at least one tweet (°)?\n",
    "def exercise_06():\n",
    "    result = None\n",
    "    return result"
   ]
  },
  {
   "cell_type": "code",
   "execution_count": null,
   "metadata": {},
   "outputs": [],
   "source": [
    "# run and check\n",
    "exercise_06()"
   ]
  },
  {
   "cell_type": "code",
   "execution_count": null,
   "metadata": {},
   "outputs": [],
   "source": [
    "# At what hour do we have the minimum number of tweets?\n",
    "def exercise_07():\n",
    "    result = None\n",
    "    return result"
   ]
  },
  {
   "cell_type": "code",
   "execution_count": null,
   "metadata": {},
   "outputs": [],
   "source": [
    "# run and check\n",
    "exercise_07()"
   ]
  },
  {
   "cell_type": "code",
   "execution_count": null,
   "metadata": {},
   "outputs": [],
   "source": [
    "# At what hour do we have the maximum number of tweets?\n",
    "def exercise_08():\n",
    "    result = None\n",
    "    return result"
   ]
  },
  {
   "cell_type": "code",
   "execution_count": null,
   "metadata": {},
   "outputs": [],
   "source": [
    "# run and check\n",
    "exercise_08()"
   ]
  },
  {
   "cell_type": "code",
   "execution_count": null,
   "metadata": {},
   "outputs": [],
   "source": [
    "# Who is the most active user in the dataset?\n",
    "def exercise_09():\n",
    "    result = None\n",
    "    return result"
   ]
  },
  {
   "cell_type": "code",
   "execution_count": null,
   "metadata": {},
   "outputs": [],
   "source": [
    "# run and check\n",
    "exercise_09()"
   ]
  },
  {
   "cell_type": "code",
   "execution_count": null,
   "metadata": {},
   "outputs": [],
   "source": [
    "# What is the average number of tweets in a day produced by the most active user (°)?\n",
    "def exercise_10():\n",
    "    result = None\n",
    "    return result"
   ]
  },
  {
   "cell_type": "code",
   "execution_count": null,
   "metadata": {},
   "outputs": [],
   "source": [
    "# run and check\n",
    "exercise_10()"
   ]
  },
  {
   "cell_type": "code",
   "execution_count": null,
   "metadata": {},
   "outputs": [],
   "source": [
    "# What is the mean score of all tweets (°)?\n",
    "def exercise_11():\n",
    "    result = None\n",
    "    return result"
   ]
  },
  {
   "cell_type": "code",
   "execution_count": null,
   "metadata": {},
   "outputs": [],
   "source": [
    "# run and check\n",
    "exercise_11()"
   ]
  },
  {
   "cell_type": "code",
   "execution_count": null,
   "metadata": {},
   "outputs": [],
   "source": [
    "# What is the mean score of tweets containing the string \"good\" (°)?\n",
    "def exercise_12():\n",
    "    result = None\n",
    "    return result"
   ]
  },
  {
   "cell_type": "code",
   "execution_count": null,
   "metadata": {},
   "outputs": [],
   "source": [
    "# run and check\n",
    "exercise_12()"
   ]
  },
  {
   "cell_type": "code",
   "execution_count": null,
   "metadata": {},
   "outputs": [],
   "source": [
    "# What is the mean score of tweets containing the string \"bad\" (°)?\n",
    "def exercise_13():\n",
    "    result = None\n",
    "    return result"
   ]
  },
  {
   "cell_type": "code",
   "execution_count": null,
   "metadata": {},
   "outputs": [],
   "source": [
    "# run and check\n",
    "exercise_13()"
   ]
  },
  {
   "cell_type": "code",
   "execution_count": null,
   "metadata": {},
   "outputs": [],
   "source": [
    "# What is the mean score of tweets issued by the most active user found in question 9 (°)?\n",
    "def exercise_14():\n",
    "    result = None\n",
    "    return result"
   ]
  },
  {
   "cell_type": "code",
   "execution_count": null,
   "metadata": {},
   "outputs": [],
   "source": [
    "# run and check\n",
    "exercise_14()"
   ]
  },
  {
   "cell_type": "code",
   "execution_count": null,
   "metadata": {},
   "outputs": [],
   "source": [
    "# Which text is the most frequent one in all tweets?\n",
    "def exercise_15():\n",
    "    result = None\n",
    "    return result"
   ]
  },
  {
   "cell_type": "code",
   "execution_count": null,
   "metadata": {},
   "outputs": [],
   "source": [
    "# run and check\n",
    "exercise_15()"
   ]
  },
  {
   "cell_type": "code",
   "execution_count": null,
   "metadata": {},
   "outputs": [],
   "source": [
    "# How many different users issued the most frequent tweet?\n",
    "def exercise_16():\n",
    "    result = None\n",
    "    return result"
   ]
  },
  {
   "cell_type": "code",
   "execution_count": null,
   "metadata": {},
   "outputs": [],
   "source": [
    "# run and check\n",
    "exercise_16()"
   ]
  },
  {
   "cell_type": "code",
   "execution_count": null,
   "metadata": {},
   "outputs": [],
   "source": [
    "# What is the mean score of all tweets issued by those users (°)?\n",
    "def exercise_17():\n",
    "    result = None\n",
    "    return result"
   ]
  },
  {
   "cell_type": "code",
   "execution_count": null,
   "metadata": {},
   "outputs": [],
   "source": [
    "# run and check\n",
    "exercise_17()"
   ]
  },
  {
   "cell_type": "code",
   "execution_count": null,
   "metadata": {},
   "outputs": [],
   "source": [
    "# Which user is the most quoted one (the result should be a string starting with an `@`)?\n",
    "def exercise_18():\n",
    "    result = None\n",
    "    return result"
   ]
  },
  {
   "cell_type": "code",
   "execution_count": null,
   "metadata": {},
   "outputs": [],
   "source": [
    "# run and check\n",
    "exercise_18()"
   ]
  },
  {
   "cell_type": "code",
   "execution_count": null,
   "metadata": {},
   "outputs": [],
   "source": [
    "# How many different users issued at least a tweet quoting the most quoted user?\n",
    "def exercise_19():\n",
    "    result = None\n",
    "    return result"
   ]
  },
  {
   "cell_type": "code",
   "execution_count": null,
   "metadata": {},
   "outputs": [],
   "source": [
    "# run and check\n",
    "exercise_19()"
   ]
  },
  {
   "cell_type": "code",
   "execution_count": null,
   "metadata": {},
   "outputs": [],
   "source": [
    "# What is the mean score of tweets quoting the most quoted user (°)?\n",
    "def exercise_20():\n",
    "    result = None\n",
    "    return result"
   ]
  },
  {
   "cell_type": "code",
   "execution_count": null,
   "metadata": {},
   "outputs": [],
   "source": [
    "# run and check\n",
    "exercise_20()"
   ]
  }
 ],
 "metadata": {
  "kernelspec": {
   "display_name": "Python 3",
   "language": "python",
   "name": "python3"
  },
  "language_info": {
   "codemirror_mode": {
    "name": "ipython",
    "version": 3
   },
   "file_extension": ".py",
   "mimetype": "text/x-python",
   "name": "python",
   "nbconvert_exporter": "python",
   "pygments_lexer": "ipython3",
   "version": "3.6.4"
  }
 },
 "nbformat": 4,
 "nbformat_minor": 2
}
